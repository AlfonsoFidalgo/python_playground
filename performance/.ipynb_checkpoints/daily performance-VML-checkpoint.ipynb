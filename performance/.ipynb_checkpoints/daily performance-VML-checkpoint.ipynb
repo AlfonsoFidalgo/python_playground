{
 "cells": [
  {
   "cell_type": "code",
   "execution_count": 1,
   "metadata": {
    "collapsed": true
   },
   "outputs": [],
   "source": [
    "import pandas as pd\n",
    "import numpy as np"
   ]
  },
  {
   "cell_type": "code",
   "execution_count": 2,
   "metadata": {
    "collapsed": true
   },
   "outputs": [],
   "source": [
    "import matplotlib.pyplot as plt\n",
    "import seaborn as sns\n",
    "%matplotlib inline"
   ]
  },
  {
   "cell_type": "code",
   "execution_count": 3,
   "metadata": {
    "collapsed": true
   },
   "outputs": [],
   "source": [
    "df = pd.read_csv('daily_performance_VML.csv', names=['Day', 'AdGroup', 'Campaign', 'Device', 'Revenue', 'Conversions', 'Cost', 'Impressions', 'Clicks'])"
   ]
  },
  {
   "cell_type": "code",
   "execution_count": 4,
   "metadata": {
    "collapsed": false
   },
   "outputs": [
    {
     "data": {
      "text/html": [
       "<div>\n",
       "<table border=\"1\" class=\"dataframe\">\n",
       "  <thead>\n",
       "    <tr style=\"text-align: right;\">\n",
       "      <th></th>\n",
       "      <th>Day</th>\n",
       "      <th>AdGroup</th>\n",
       "      <th>Campaign</th>\n",
       "      <th>Device</th>\n",
       "      <th>Revenue</th>\n",
       "      <th>Conversions</th>\n",
       "      <th>Cost</th>\n",
       "      <th>Impressions</th>\n",
       "      <th>Clicks</th>\n",
       "    </tr>\n",
       "  </thead>\n",
       "  <tbody>\n",
       "    <tr>\n",
       "      <th>0</th>\n",
       "      <td>2017-03-08</td>\n",
       "      <td>d451_Salzburg - Visit</td>\n",
       "      <td>Spanish - Salzburg</td>\n",
       "      <td>3</td>\n",
       "      <td>0.0</td>\n",
       "      <td>0</td>\n",
       "      <td>0.00</td>\n",
       "      <td>4</td>\n",
       "      <td>0</td>\n",
       "    </tr>\n",
       "    <tr>\n",
       "      <th>1</th>\n",
       "      <td>2017-03-31</td>\n",
       "      <td>d784_Atlanta - TTD</td>\n",
       "      <td>Spanish - Atlanta</td>\n",
       "      <td>1</td>\n",
       "      <td>0.0</td>\n",
       "      <td>0</td>\n",
       "      <td>0.16</td>\n",
       "      <td>10</td>\n",
       "      <td>1</td>\n",
       "    </tr>\n",
       "    <tr>\n",
       "      <th>2</th>\n",
       "      <td>2017-03-01</td>\n",
       "      <td>d651-g5_San Francisco Day Trips</td>\n",
       "      <td>Spanish - San Francisco</td>\n",
       "      <td>1</td>\n",
       "      <td>0.0</td>\n",
       "      <td>0</td>\n",
       "      <td>0.84</td>\n",
       "      <td>5</td>\n",
       "      <td>1</td>\n",
       "    </tr>\n",
       "    <tr>\n",
       "      <th>3</th>\n",
       "      <td>2017-03-11</td>\n",
       "      <td>d672-a1195_USS Missouri</td>\n",
       "      <td>German - Hawaii</td>\n",
       "      <td>3</td>\n",
       "      <td>0.0</td>\n",
       "      <td>0</td>\n",
       "      <td>0.00</td>\n",
       "      <td>2</td>\n",
       "      <td>0</td>\n",
       "    </tr>\n",
       "    <tr>\n",
       "      <th>4</th>\n",
       "      <td>2017-03-27</td>\n",
       "      <td>d673_Chicago Tours - Visit</td>\n",
       "      <td>Spanish - Misc USA</td>\n",
       "      <td>2</td>\n",
       "      <td>0.0</td>\n",
       "      <td>0</td>\n",
       "      <td>0.13</td>\n",
       "      <td>22</td>\n",
       "      <td>1</td>\n",
       "    </tr>\n",
       "  </tbody>\n",
       "</table>\n",
       "</div>"
      ],
      "text/plain": [
       "          Day                          AdGroup                 Campaign  \\\n",
       "0  2017-03-08            d451_Salzburg - Visit       Spanish - Salzburg   \n",
       "1  2017-03-31               d784_Atlanta - TTD        Spanish - Atlanta   \n",
       "2  2017-03-01  d651-g5_San Francisco Day Trips  Spanish - San Francisco   \n",
       "3  2017-03-11          d672-a1195_USS Missouri          German - Hawaii   \n",
       "4  2017-03-27       d673_Chicago Tours - Visit       Spanish - Misc USA   \n",
       "\n",
       "   Device  Revenue  Conversions  Cost  Impressions  Clicks  \n",
       "0       3      0.0            0  0.00            4       0  \n",
       "1       1      0.0            0  0.16           10       1  \n",
       "2       1      0.0            0  0.84            5       1  \n",
       "3       3      0.0            0  0.00            2       0  \n",
       "4       2      0.0            0  0.13           22       1  "
      ]
     },
     "execution_count": 4,
     "metadata": {},
     "output_type": "execute_result"
    }
   ],
   "source": [
    "df.head()"
   ]
  },
  {
   "cell_type": "code",
   "execution_count": 5,
   "metadata": {
    "collapsed": false
   },
   "outputs": [
    {
     "data": {
      "text/html": [
       "<div>\n",
       "<table border=\"1\" class=\"dataframe\">\n",
       "  <thead>\n",
       "    <tr style=\"text-align: right;\">\n",
       "      <th></th>\n",
       "      <th>Day</th>\n",
       "      <th>AdGroup</th>\n",
       "      <th>Campaign</th>\n",
       "      <th>Device</th>\n",
       "      <th>Revenue</th>\n",
       "      <th>Conversions</th>\n",
       "      <th>Cost</th>\n",
       "      <th>Impressions</th>\n",
       "      <th>Clicks</th>\n",
       "    </tr>\n",
       "  </thead>\n",
       "  <tbody>\n",
       "    <tr>\n",
       "      <th>117</th>\n",
       "      <td>2017-04-13</td>\n",
       "      <td>General Products - Codes</td>\n",
       "      <td>French - Brand Sitelinks</td>\n",
       "      <td>1</td>\n",
       "      <td>0.00</td>\n",
       "      <td>0</td>\n",
       "      <td>3.30</td>\n",
       "      <td>31</td>\n",
       "      <td>5</td>\n",
       "    </tr>\n",
       "    <tr>\n",
       "      <th>380</th>\n",
       "      <td>2017-04-16</td>\n",
       "      <td>General Products</td>\n",
       "      <td>French - Brand Sitelinks</td>\n",
       "      <td>1</td>\n",
       "      <td>197.95</td>\n",
       "      <td>3</td>\n",
       "      <td>194.35</td>\n",
       "      <td>397</td>\n",
       "      <td>152</td>\n",
       "    </tr>\n",
       "    <tr>\n",
       "      <th>462</th>\n",
       "      <td>2017-03-05</td>\n",
       "      <td>General Products - Misspells</td>\n",
       "      <td>French - Brand Sitelinks</td>\n",
       "      <td>1</td>\n",
       "      <td>13.73</td>\n",
       "      <td>1</td>\n",
       "      <td>7.64</td>\n",
       "      <td>55</td>\n",
       "      <td>5</td>\n",
       "    </tr>\n",
       "    <tr>\n",
       "      <th>1364</th>\n",
       "      <td>2017-03-28</td>\n",
       "      <td>Viator - Transfers</td>\n",
       "      <td>Spanish - Brand Sitelinks</td>\n",
       "      <td>2</td>\n",
       "      <td>0.00</td>\n",
       "      <td>0</td>\n",
       "      <td>0.20</td>\n",
       "      <td>3</td>\n",
       "      <td>3</td>\n",
       "    </tr>\n",
       "    <tr>\n",
       "      <th>1542</th>\n",
       "      <td>2017-03-21</td>\n",
       "      <td>Viator Brand</td>\n",
       "      <td>German - Brand</td>\n",
       "      <td>1</td>\n",
       "      <td>101.67</td>\n",
       "      <td>3</td>\n",
       "      <td>31.92</td>\n",
       "      <td>461</td>\n",
       "      <td>140</td>\n",
       "    </tr>\n",
       "  </tbody>\n",
       "</table>\n",
       "</div>"
      ],
      "text/plain": [
       "             Day                       AdGroup                   Campaign  \\\n",
       "117   2017-04-13      General Products - Codes   French - Brand Sitelinks   \n",
       "380   2017-04-16              General Products   French - Brand Sitelinks   \n",
       "462   2017-03-05  General Products - Misspells   French - Brand Sitelinks   \n",
       "1364  2017-03-28            Viator - Transfers  Spanish - Brand Sitelinks   \n",
       "1542  2017-03-21                  Viator Brand             German - Brand   \n",
       "\n",
       "      Device  Revenue  Conversions    Cost  Impressions  Clicks  \n",
       "117        1     0.00            0    3.30           31       5  \n",
       "380        1   197.95            3  194.35          397     152  \n",
       "462        1    13.73            1    7.64           55       5  \n",
       "1364       2     0.00            0    0.20            3       3  \n",
       "1542       1   101.67            3   31.92          461     140  "
      ]
     },
     "execution_count": 5,
     "metadata": {},
     "output_type": "execute_result"
    }
   ],
   "source": [
    "df[df['Campaign'].apply(lambda x: 'Brand' in x)].head()"
   ]
  },
  {
   "cell_type": "code",
   "execution_count": 6,
   "metadata": {
    "collapsed": false
   },
   "outputs": [],
   "source": [
    "def catCamp(camp):\n",
    "    if 'Brand' in camp:\n",
    "        return 'Brand'\n",
    "    elif 'DSA' in camp:\n",
    "        return 'DSA'\n",
    "    else: return 'Generic'"
   ]
  },
  {
   "cell_type": "code",
   "execution_count": 7,
   "metadata": {
    "collapsed": false
   },
   "outputs": [],
   "source": [
    "def catAg(ag):\n",
    "    if 'viator' in ag:\n",
    "        return 'Brand'"
   ]
  },
  {
   "cell_type": "code",
   "execution_count": 8,
   "metadata": {
    "collapsed": true
   },
   "outputs": [],
   "source": [
    "df['Type'] = df['AdGroup'].apply(catAg)"
   ]
  },
  {
   "cell_type": "code",
   "execution_count": 9,
   "metadata": {
    "collapsed": true
   },
   "outputs": [],
   "source": [
    "df['Type'] = df['Campaign'].apply(catCamp)"
   ]
  },
  {
   "cell_type": "code",
   "execution_count": 10,
   "metadata": {
    "collapsed": false
   },
   "outputs": [
    {
     "data": {
      "text/html": [
       "<div>\n",
       "<table border=\"1\" class=\"dataframe\">\n",
       "  <thead>\n",
       "    <tr style=\"text-align: right;\">\n",
       "      <th></th>\n",
       "      <th>Day</th>\n",
       "      <th>AdGroup</th>\n",
       "      <th>Campaign</th>\n",
       "      <th>Device</th>\n",
       "      <th>Revenue</th>\n",
       "      <th>Conversions</th>\n",
       "      <th>Cost</th>\n",
       "      <th>Impressions</th>\n",
       "      <th>Clicks</th>\n",
       "      <th>Type</th>\n",
       "    </tr>\n",
       "  </thead>\n",
       "  <tbody>\n",
       "  </tbody>\n",
       "</table>\n",
       "</div>"
      ],
      "text/plain": [
       "Empty DataFrame\n",
       "Columns: [Day, AdGroup, Campaign, Device, Revenue, Conversions, Cost, Impressions, Clicks, Type]\n",
       "Index: []"
      ]
     },
     "execution_count": 10,
     "metadata": {},
     "output_type": "execute_result"
    }
   ],
   "source": [
    "df[(df['AdGroup'].apply(lambda x: 'viator' in x)) & (df['Type'] != 'Brand')].head(25)"
   ]
  },
  {
   "cell_type": "code",
   "execution_count": 11,
   "metadata": {
    "collapsed": false
   },
   "outputs": [
    {
     "data": {
      "text/html": [
       "<div>\n",
       "<table border=\"1\" class=\"dataframe\">\n",
       "  <thead>\n",
       "    <tr style=\"text-align: right;\">\n",
       "      <th></th>\n",
       "      <th>Day</th>\n",
       "      <th>AdGroup</th>\n",
       "      <th>Campaign</th>\n",
       "      <th>Device</th>\n",
       "      <th>Revenue</th>\n",
       "      <th>Conversions</th>\n",
       "      <th>Cost</th>\n",
       "      <th>Impressions</th>\n",
       "      <th>Clicks</th>\n",
       "      <th>Type</th>\n",
       "    </tr>\n",
       "  </thead>\n",
       "  <tbody>\n",
       "  </tbody>\n",
       "</table>\n",
       "</div>"
      ],
      "text/plain": [
       "Empty DataFrame\n",
       "Columns: [Day, AdGroup, Campaign, Device, Revenue, Conversions, Cost, Impressions, Clicks, Type]\n",
       "Index: []"
      ]
     },
     "execution_count": 11,
     "metadata": {},
     "output_type": "execute_result"
    }
   ],
   "source": [
    "df[(df['AdGroup'].apply(lambda x: 'viator' in x)) & (df['Type'] != 'Brand')]"
   ]
  },
  {
   "cell_type": "code",
   "execution_count": 12,
   "metadata": {
    "collapsed": false
   },
   "outputs": [],
   "source": [
    "df.loc[(df['AdGroup'].apply(lambda x: 'viator' in x)) & (df['Type'] != 'Brand'), 'Type'] = 'Brand'"
   ]
  },
  {
   "cell_type": "code",
   "execution_count": 13,
   "metadata": {
    "collapsed": false,
    "scrolled": true
   },
   "outputs": [
    {
     "data": {
      "text/html": [
       "<div>\n",
       "<table border=\"1\" class=\"dataframe\">\n",
       "  <thead>\n",
       "    <tr style=\"text-align: right;\">\n",
       "      <th></th>\n",
       "      <th>Day</th>\n",
       "      <th>AdGroup</th>\n",
       "      <th>Campaign</th>\n",
       "      <th>Device</th>\n",
       "      <th>Revenue</th>\n",
       "      <th>Conversions</th>\n",
       "      <th>Cost</th>\n",
       "      <th>Impressions</th>\n",
       "      <th>Clicks</th>\n",
       "      <th>Type</th>\n",
       "    </tr>\n",
       "  </thead>\n",
       "  <tbody>\n",
       "    <tr>\n",
       "      <th>0</th>\n",
       "      <td>2017-03-08</td>\n",
       "      <td>d451_Salzburg - Visit</td>\n",
       "      <td>Spanish - Salzburg</td>\n",
       "      <td>3</td>\n",
       "      <td>0.0</td>\n",
       "      <td>0</td>\n",
       "      <td>0.00</td>\n",
       "      <td>4</td>\n",
       "      <td>0</td>\n",
       "      <td>Generic</td>\n",
       "    </tr>\n",
       "    <tr>\n",
       "      <th>1</th>\n",
       "      <td>2017-03-31</td>\n",
       "      <td>d784_Atlanta - TTD</td>\n",
       "      <td>Spanish - Atlanta</td>\n",
       "      <td>1</td>\n",
       "      <td>0.0</td>\n",
       "      <td>0</td>\n",
       "      <td>0.16</td>\n",
       "      <td>10</td>\n",
       "      <td>1</td>\n",
       "      <td>Generic</td>\n",
       "    </tr>\n",
       "    <tr>\n",
       "      <th>2</th>\n",
       "      <td>2017-03-01</td>\n",
       "      <td>d651-g5_San Francisco Day Trips</td>\n",
       "      <td>Spanish - San Francisco</td>\n",
       "      <td>1</td>\n",
       "      <td>0.0</td>\n",
       "      <td>0</td>\n",
       "      <td>0.84</td>\n",
       "      <td>5</td>\n",
       "      <td>1</td>\n",
       "      <td>Generic</td>\n",
       "    </tr>\n",
       "    <tr>\n",
       "      <th>3</th>\n",
       "      <td>2017-03-11</td>\n",
       "      <td>d672-a1195_USS Missouri</td>\n",
       "      <td>German - Hawaii</td>\n",
       "      <td>3</td>\n",
       "      <td>0.0</td>\n",
       "      <td>0</td>\n",
       "      <td>0.00</td>\n",
       "      <td>2</td>\n",
       "      <td>0</td>\n",
       "      <td>Generic</td>\n",
       "    </tr>\n",
       "    <tr>\n",
       "      <th>4</th>\n",
       "      <td>2017-03-27</td>\n",
       "      <td>d673_Chicago Tours - Visit</td>\n",
       "      <td>Spanish - Misc USA</td>\n",
       "      <td>2</td>\n",
       "      <td>0.0</td>\n",
       "      <td>0</td>\n",
       "      <td>0.13</td>\n",
       "      <td>22</td>\n",
       "      <td>1</td>\n",
       "      <td>Generic</td>\n",
       "    </tr>\n",
       "  </tbody>\n",
       "</table>\n",
       "</div>"
      ],
      "text/plain": [
       "          Day                          AdGroup                 Campaign  \\\n",
       "0  2017-03-08            d451_Salzburg - Visit       Spanish - Salzburg   \n",
       "1  2017-03-31               d784_Atlanta - TTD        Spanish - Atlanta   \n",
       "2  2017-03-01  d651-g5_San Francisco Day Trips  Spanish - San Francisco   \n",
       "3  2017-03-11          d672-a1195_USS Missouri          German - Hawaii   \n",
       "4  2017-03-27       d673_Chicago Tours - Visit       Spanish - Misc USA   \n",
       "\n",
       "   Device  Revenue  Conversions  Cost  Impressions  Clicks     Type  \n",
       "0       3      0.0            0  0.00            4       0  Generic  \n",
       "1       1      0.0            0  0.16           10       1  Generic  \n",
       "2       1      0.0            0  0.84            5       1  Generic  \n",
       "3       3      0.0            0  0.00            2       0  Generic  \n",
       "4       2      0.0            0  0.13           22       1  Generic  "
      ]
     },
     "execution_count": 13,
     "metadata": {},
     "output_type": "execute_result"
    }
   ],
   "source": [
    "df.head(5)"
   ]
  },
  {
   "cell_type": "code",
   "execution_count": 14,
   "metadata": {
    "collapsed": false
   },
   "outputs": [],
   "source": [
    "df2 = df[['Day', 'Revenue', 'Conversions', 'Cost', 'Impressions', 'Clicks', 'Type']].groupby(by=['Type', 'Day']).sum()"
   ]
  },
  {
   "cell_type": "code",
   "execution_count": 15,
   "metadata": {
    "collapsed": true
   },
   "outputs": [],
   "source": [
    "df2.to_excel('Output_VML.xlsx')"
   ]
  },
  {
   "cell_type": "code",
   "execution_count": null,
   "metadata": {
    "collapsed": true
   },
   "outputs": [],
   "source": []
  }
 ],
 "metadata": {
  "kernelspec": {
   "display_name": "Python 3",
   "language": "python",
   "name": "python3"
  },
  "language_info": {
   "codemirror_mode": {
    "name": "ipython",
    "version": 3
   },
   "file_extension": ".py",
   "mimetype": "text/x-python",
   "name": "python",
   "nbconvert_exporter": "python",
   "pygments_lexer": "ipython3",
   "version": "3.6.0"
  }
 },
 "nbformat": 4,
 "nbformat_minor": 2
}
