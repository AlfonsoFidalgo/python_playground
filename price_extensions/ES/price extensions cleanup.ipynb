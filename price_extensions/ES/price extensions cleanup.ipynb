{
 "cells": [
  {
   "cell_type": "code",
   "execution_count": 1,
   "metadata": {
    "collapsed": true
   },
   "outputs": [],
   "source": [
    "import numpy as np\n",
    "import pandas as pd"
   ]
  },
  {
   "cell_type": "code",
   "execution_count": 2,
   "metadata": {
    "collapsed": true
   },
   "outputs": [],
   "source": [
    "df = pd.read_excel('ES_price_extensions 30.03.17.xlsx')"
   ]
  },
  {
   "cell_type": "code",
   "execution_count": 3,
   "metadata": {
    "collapsed": false
   },
   "outputs": [
    {
     "data": {
      "text/html": [
       "<div>\n",
       "<table border=\"1\" class=\"dataframe\">\n",
       "  <thead>\n",
       "    <tr style=\"text-align: right;\">\n",
       "      <th></th>\n",
       "      <th>Campaign</th>\n",
       "      <th>Header</th>\n",
       "      <th>Description</th>\n",
       "      <th>Final URL</th>\n",
       "      <th>Price from USD</th>\n",
       "    </tr>\n",
       "  </thead>\n",
       "  <tbody>\n",
       "    <tr>\n",
       "      <th>0</th>\n",
       "      <td>Spanish - Alaska</td>\n",
       "      <td>Puerto Cruceros Anchorage</td>\n",
       "      <td>Miles de Tours en Viator</td>\n",
       "      <td>https://es.viator.com/es/7380/Anchorage-attrac...</td>\n",
       "      <td>49.0</td>\n",
       "    </tr>\n",
       "    <tr>\n",
       "      <th>1</th>\n",
       "      <td>Spanish - Alaska</td>\n",
       "      <td>Glaciar Portage</td>\n",
       "      <td>Miles de Tours en Viator</td>\n",
       "      <td>https://es.viator.com/es/7380/Anchorage-attrac...</td>\n",
       "      <td>149.0</td>\n",
       "    </tr>\n",
       "    <tr>\n",
       "      <th>2</th>\n",
       "      <td>Spanish - Alaska</td>\n",
       "      <td>Parque Estatal Chugach</td>\n",
       "      <td>Miles de Tours en Viator</td>\n",
       "      <td>https://es.viator.com/es/7380/Anchorage-attrac...</td>\n",
       "      <td>89.0</td>\n",
       "    </tr>\n",
       "    <tr>\n",
       "      <th>3</th>\n",
       "      <td>Spanish - Alaska</td>\n",
       "      <td>Parque Nacional Denali</td>\n",
       "      <td>Miles de Tours en Viator</td>\n",
       "      <td>https://es.viator.com/es/7380/Alaska-attractio...</td>\n",
       "      <td>92.0</td>\n",
       "    </tr>\n",
       "    <tr>\n",
       "      <th>4</th>\n",
       "      <td>Spanish - Alaska</td>\n",
       "      <td>Centro del Patrimonio</td>\n",
       "      <td>Miles de Tours en Viator</td>\n",
       "      <td>https://es.viator.com/es/7380/Anchorage-attrac...</td>\n",
       "      <td>49.0</td>\n",
       "    </tr>\n",
       "  </tbody>\n",
       "</table>\n",
       "</div>"
      ],
      "text/plain": [
       "           Campaign                     Header               Description  \\\n",
       "0  Spanish - Alaska  Puerto Cruceros Anchorage  Miles de Tours en Viator   \n",
       "1  Spanish - Alaska            Glaciar Portage  Miles de Tours en Viator   \n",
       "2  Spanish - Alaska     Parque Estatal Chugach  Miles de Tours en Viator   \n",
       "3  Spanish - Alaska     Parque Nacional Denali  Miles de Tours en Viator   \n",
       "4  Spanish - Alaska      Centro del Patrimonio  Miles de Tours en Viator   \n",
       "\n",
       "                                           Final URL  Price from USD  \n",
       "0  https://es.viator.com/es/7380/Anchorage-attrac...            49.0  \n",
       "1  https://es.viator.com/es/7380/Anchorage-attrac...           149.0  \n",
       "2  https://es.viator.com/es/7380/Anchorage-attrac...            89.0  \n",
       "3  https://es.viator.com/es/7380/Alaska-attractio...            92.0  \n",
       "4  https://es.viator.com/es/7380/Anchorage-attrac...            49.0  "
      ]
     },
     "execution_count": 3,
     "metadata": {},
     "output_type": "execute_result"
    }
   ],
   "source": [
    "df.head()"
   ]
  },
  {
   "cell_type": "code",
   "execution_count": 4,
   "metadata": {
    "collapsed": true
   },
   "outputs": [],
   "source": [
    "def parseUrl (url):\n",
    "    arr = url.split('/')\n",
    "    if len(arr[len(arr)-1]) == 1:\n",
    "        return arr[len(arr)-2]\n",
    "    else:\n",
    "        return arr[len(arr)-1]"
   ]
  },
  {
   "cell_type": "code",
   "execution_count": 5,
   "metadata": {
    "collapsed": true
   },
   "outputs": [],
   "source": [
    "def categorise (url):\n",
    "    if '-ttd' in url:\n",
    "        return 'TTD'\n",
    "    elif '-t' in url:\n",
    "        return 'Recommendation'\n",
    "    elif '-g' in url:\n",
    "        return 'Group/Category'\n",
    "    elif '-a' in url:\n",
    "        return 'Attraction'\n",
    "    elif '-' not in url:\n",
    "        return 'TTD'\n",
    "    else:\n",
    "        return 'Product'"
   ]
  },
  {
   "cell_type": "code",
   "execution_count": 6,
   "metadata": {
    "collapsed": true
   },
   "outputs": [],
   "source": [
    "df['URL type'] = df['Final URL'].apply(parseUrl)"
   ]
  },
  {
   "cell_type": "code",
   "execution_count": 8,
   "metadata": {
    "collapsed": false
   },
   "outputs": [],
   "source": [
    "df['URL Category'] = df['URL type'].apply(categorise)"
   ]
  },
  {
   "cell_type": "code",
   "execution_count": 22,
   "metadata": {
    "collapsed": false
   },
   "outputs": [],
   "source": [
    "df.drop(df[df['URL Category'] == 'Product'].index, inplace=True)"
   ]
  },
  {
   "cell_type": "code",
   "execution_count": 25,
   "metadata": {
    "collapsed": false
   },
   "outputs": [
    {
     "data": {
      "text/html": [
       "<div>\n",
       "<table border=\"1\" class=\"dataframe\">\n",
       "  <thead>\n",
       "    <tr style=\"text-align: right;\">\n",
       "      <th></th>\n",
       "      <th>Campaign</th>\n",
       "      <th>Header</th>\n",
       "      <th>Description</th>\n",
       "      <th>Final URL</th>\n",
       "      <th>Price from USD</th>\n",
       "      <th>URL type</th>\n",
       "      <th>URL Category</th>\n",
       "    </tr>\n",
       "  </thead>\n",
       "  <tbody>\n",
       "    <tr>\n",
       "      <th>1939</th>\n",
       "      <td>Spanish - Washington</td>\n",
       "      <td>Museo Chihuly</td>\n",
       "      <td>Miles de Tours en Viator</td>\n",
       "      <td>https://es.viator.com/es/7380/Seattle-attracti...</td>\n",
       "      <td>23.10</td>\n",
       "      <td>d704-a15418</td>\n",
       "      <td>Attraction</td>\n",
       "    </tr>\n",
       "    <tr>\n",
       "      <th>1940</th>\n",
       "      <td>Spanish - Washington</td>\n",
       "      <td>Mercado Pike Place</td>\n",
       "      <td>Miles de Tours en Viator</td>\n",
       "      <td>https://es.viator.com/es/7380/Seattle-attracti...</td>\n",
       "      <td>48.21</td>\n",
       "      <td>d704-a1308</td>\n",
       "      <td>Attraction</td>\n",
       "    </tr>\n",
       "    <tr>\n",
       "      <th>1941</th>\n",
       "      <td>Spanish - Washington</td>\n",
       "      <td>Parque Nacional Olympic</td>\n",
       "      <td>Miles de Tours en Viator</td>\n",
       "      <td>https://es.viator.com/es/7380/Seattle-attracti...</td>\n",
       "      <td>70.00</td>\n",
       "      <td>d704-a10009</td>\n",
       "      <td>Attraction</td>\n",
       "    </tr>\n",
       "    <tr>\n",
       "      <th>1942</th>\n",
       "      <td>Spanish - Washington</td>\n",
       "      <td>Boeing Space Center</td>\n",
       "      <td>Miles de Tours en Viator</td>\n",
       "      <td>https://es.viator.com/es/7380/Seattle-attracti...</td>\n",
       "      <td>75.00</td>\n",
       "      <td>d704-a1318</td>\n",
       "      <td>Attraction</td>\n",
       "    </tr>\n",
       "    <tr>\n",
       "      <th>1943</th>\n",
       "      <td>Spanish - Washington</td>\n",
       "      <td>Space Needle</td>\n",
       "      <td>Miles de Tours en Viator</td>\n",
       "      <td>https://es.viator.com/es/7380/Seattle-attracti...</td>\n",
       "      <td>23.10</td>\n",
       "      <td>d704-a1313</td>\n",
       "      <td>Attraction</td>\n",
       "    </tr>\n",
       "  </tbody>\n",
       "</table>\n",
       "</div>"
      ],
      "text/plain": [
       "                  Campaign                   Header               Description  \\\n",
       "1939  Spanish - Washington            Museo Chihuly  Miles de Tours en Viator   \n",
       "1940  Spanish - Washington       Mercado Pike Place  Miles de Tours en Viator   \n",
       "1941  Spanish - Washington  Parque Nacional Olympic  Miles de Tours en Viator   \n",
       "1942  Spanish - Washington      Boeing Space Center  Miles de Tours en Viator   \n",
       "1943  Spanish - Washington             Space Needle  Miles de Tours en Viator   \n",
       "\n",
       "                                              Final URL  Price from USD  \\\n",
       "1939  https://es.viator.com/es/7380/Seattle-attracti...           23.10   \n",
       "1940  https://es.viator.com/es/7380/Seattle-attracti...           48.21   \n",
       "1941  https://es.viator.com/es/7380/Seattle-attracti...           70.00   \n",
       "1942  https://es.viator.com/es/7380/Seattle-attracti...           75.00   \n",
       "1943  https://es.viator.com/es/7380/Seattle-attracti...           23.10   \n",
       "\n",
       "         URL type URL Category  \n",
       "1939  d704-a15418   Attraction  \n",
       "1940   d704-a1308   Attraction  \n",
       "1941  d704-a10009   Attraction  \n",
       "1942   d704-a1318   Attraction  \n",
       "1943   d704-a1313   Attraction  "
      ]
     },
     "execution_count": 25,
     "metadata": {},
     "output_type": "execute_result"
    }
   ],
   "source": [
    "df.tail()"
   ]
  },
  {
   "cell_type": "code",
   "execution_count": 26,
   "metadata": {
    "collapsed": true
   },
   "outputs": [],
   "source": [
    "df.to_excel('ES_price_exten_clean.xlsx')"
   ]
  },
  {
   "cell_type": "code",
   "execution_count": null,
   "metadata": {
    "collapsed": true
   },
   "outputs": [],
   "source": []
  }
 ],
 "metadata": {
  "kernelspec": {
   "display_name": "Python 3",
   "language": "python",
   "name": "python3"
  },
  "language_info": {
   "codemirror_mode": {
    "name": "ipython",
    "version": 3
   },
   "file_extension": ".py",
   "mimetype": "text/x-python",
   "name": "python",
   "nbconvert_exporter": "python",
   "pygments_lexer": "ipython3",
   "version": "3.6.0"
  }
 },
 "nbformat": 4,
 "nbformat_minor": 2
}
