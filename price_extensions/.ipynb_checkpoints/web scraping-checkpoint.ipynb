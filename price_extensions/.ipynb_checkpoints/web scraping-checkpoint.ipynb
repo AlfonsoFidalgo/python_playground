{
 "cells": [
  {
   "cell_type": "code",
   "execution_count": 1,
   "metadata": {
    "collapsed": true
   },
   "outputs": [],
   "source": [
    "import numpy as np\n",
    "import pandas as pd"
   ]
  },
  {
   "cell_type": "code",
   "execution_count": 8,
   "metadata": {
    "collapsed": true
   },
   "outputs": [],
   "source": [
    "from lxml import html\n",
    "import requests"
   ]
  },
  {
   "cell_type": "code",
   "execution_count": 2,
   "metadata": {
    "collapsed": true
   },
   "outputs": [],
   "source": [
    "import matplotlib.pyplot as plt\n",
    "%matplotlib inline"
   ]
  },
  {
   "cell_type": "code",
   "execution_count": 147,
   "metadata": {
    "collapsed": false
   },
   "outputs": [],
   "source": [
    "df = pd.read_excel('attractions.xlsx', sheetname='list')"
   ]
  },
  {
   "cell_type": "code",
   "execution_count": 148,
   "metadata": {
    "collapsed": false
   },
   "outputs": [
    {
     "data": {
      "text/html": [
       "<div>\n",
       "<table border=\"1\" class=\"dataframe\">\n",
       "  <thead>\n",
       "    <tr style=\"text-align: right;\">\n",
       "      <th></th>\n",
       "      <th>URL Clean</th>\n",
       "      <th>Destination</th>\n",
       "      <th>Attraction</th>\n",
       "    </tr>\n",
       "  </thead>\n",
       "  <tbody>\n",
       "    <tr>\n",
       "      <th>0</th>\n",
       "      <td>https://www.viator.com/South-Australia-attract...</td>\n",
       "      <td>d123</td>\n",
       "      <td>a12593</td>\n",
       "    </tr>\n",
       "    <tr>\n",
       "      <th>1</th>\n",
       "      <td>https://www.viator.com/Tasmania-attractions/Cr...</td>\n",
       "      <td>d124</td>\n",
       "      <td>a373</td>\n",
       "    </tr>\n",
       "    <tr>\n",
       "      <th>2</th>\n",
       "      <td>https://www.viator.com/North-Island-attraction...</td>\n",
       "      <td>d128</td>\n",
       "      <td>a10016</td>\n",
       "    </tr>\n",
       "    <tr>\n",
       "      <th>3</th>\n",
       "      <td>https://www.viator.com/Hong-Kong-attractions/S...</td>\n",
       "      <td>d14</td>\n",
       "      <td>a138</td>\n",
       "    </tr>\n",
       "    <tr>\n",
       "      <th>4</th>\n",
       "      <td>https://www.viator.com/Hong-Kong-attractions/N...</td>\n",
       "      <td>d14</td>\n",
       "      <td>a6603</td>\n",
       "    </tr>\n",
       "    <tr>\n",
       "      <th>5</th>\n",
       "      <td>https://www.viator.com/Hong-Kong-attractions/L...</td>\n",
       "      <td>d14</td>\n",
       "      <td>a134</td>\n",
       "    </tr>\n",
       "    <tr>\n",
       "      <th>6</th>\n",
       "      <td>https://www.viator.com/Indonesia-attractions/K...</td>\n",
       "      <td>d15</td>\n",
       "      <td>a10185</td>\n",
       "    </tr>\n",
       "    <tr>\n",
       "      <th>7</th>\n",
       "      <td>https://www.viator.com/Indonesia-attractions/B...</td>\n",
       "      <td>d15</td>\n",
       "      <td>a16209</td>\n",
       "    </tr>\n",
       "    <tr>\n",
       "      <th>8</th>\n",
       "      <td>https://www.viator.com/Japan-attractions/Hiros...</td>\n",
       "      <td>d16</td>\n",
       "      <td>a203</td>\n",
       "    </tr>\n",
       "    <tr>\n",
       "      <th>9</th>\n",
       "      <td>https://www.viator.com/Singapore-attractions/S...</td>\n",
       "      <td>d18</td>\n",
       "      <td>a36</td>\n",
       "    </tr>\n",
       "    <tr>\n",
       "      <th>10</th>\n",
       "      <td>https://www.viator.com/Singapore-attractions/S...</td>\n",
       "      <td>d18</td>\n",
       "      <td>a35</td>\n",
       "    </tr>\n",
       "    <tr>\n",
       "      <th>11</th>\n",
       "      <td>https://www.viator.com/Singapore-attractions/G...</td>\n",
       "      <td>d18</td>\n",
       "      <td>a8588</td>\n",
       "    </tr>\n",
       "    <tr>\n",
       "      <th>12</th>\n",
       "      <td>https://www.viator.com/Singapore-attractions/S...</td>\n",
       "      <td>d18</td>\n",
       "      <td>a143</td>\n",
       "    </tr>\n",
       "    <tr>\n",
       "      <th>13</th>\n",
       "      <td>https://www.viator.com/Sicily-attractions/Moun...</td>\n",
       "      <td>d205</td>\n",
       "      <td>a7649</td>\n",
       "    </tr>\n",
       "    <tr>\n",
       "      <th>14</th>\n",
       "      <td>https://www.viator.com/Bohemia-attractions/Kut...</td>\n",
       "      <td>d22153</td>\n",
       "      <td>a10610</td>\n",
       "    </tr>\n",
       "    <tr>\n",
       "      <th>15</th>\n",
       "      <td>https://www.viator.com/South-Dakota-attraction...</td>\n",
       "      <td>d22169</td>\n",
       "      <td>a19544</td>\n",
       "    </tr>\n",
       "    <tr>\n",
       "      <th>16</th>\n",
       "      <td>https://www.viator.com/Andalucia-and-Costa-del...</td>\n",
       "      <td>d228</td>\n",
       "      <td>a18042</td>\n",
       "    </tr>\n",
       "    <tr>\n",
       "      <th>17</th>\n",
       "      <td>https://www.viator.com/New-Zealand-attractions...</td>\n",
       "      <td>d24</td>\n",
       "      <td>a12105</td>\n",
       "    </tr>\n",
       "    <tr>\n",
       "      <th>18</th>\n",
       "      <td>https://www.viator.com/Tahiti-attractions/Pape...</td>\n",
       "      <td>d25</td>\n",
       "      <td>a2676</td>\n",
       "    </tr>\n",
       "    <tr>\n",
       "      <th>19</th>\n",
       "      <td>https://www.viator.com/Alaska-attractions/Anch...</td>\n",
       "      <td>d270</td>\n",
       "      <td>a2693</td>\n",
       "    </tr>\n",
       "    <tr>\n",
       "      <th>20</th>\n",
       "      <td>https://www.viator.com/Maryland-attractions/An...</td>\n",
       "      <td>d282</td>\n",
       "      <td>a2875</td>\n",
       "    </tr>\n",
       "    <tr>\n",
       "      <th>21</th>\n",
       "      <td>https://www.viator.com/Patagonia-attractions/C...</td>\n",
       "      <td>d308</td>\n",
       "      <td>a15955</td>\n",
       "    </tr>\n",
       "    <tr>\n",
       "      <th>22</th>\n",
       "      <td>https://www.viator.com/Cayman-Islands-attracti...</td>\n",
       "      <td>d31</td>\n",
       "      <td>a2435</td>\n",
       "    </tr>\n",
       "    <tr>\n",
       "      <th>23</th>\n",
       "      <td>https://www.viator.com/Beijing-attractions/Gre...</td>\n",
       "      <td>d321</td>\n",
       "      <td>a170</td>\n",
       "    </tr>\n",
       "    <tr>\n",
       "      <th>24</th>\n",
       "      <td>https://www.viator.com/Beijing-attractions/Gre...</td>\n",
       "      <td>d321</td>\n",
       "      <td>a10136</td>\n",
       "    </tr>\n",
       "    <tr>\n",
       "      <th>25</th>\n",
       "      <td>https://www.viator.com/Kyoto-attractions/Kyoto...</td>\n",
       "      <td>d332</td>\n",
       "      <td>a194</td>\n",
       "    </tr>\n",
       "    <tr>\n",
       "      <th>26</th>\n",
       "      <td>https://www.viator.com/Kyoto-attractions/Arash...</td>\n",
       "      <td>d332</td>\n",
       "      <td>a188</td>\n",
       "    </tr>\n",
       "    <tr>\n",
       "      <th>27</th>\n",
       "      <td>https://www.viator.com/Tokyo-attractions/Mt-Fu...</td>\n",
       "      <td>d334</td>\n",
       "      <td>a86</td>\n",
       "    </tr>\n",
       "    <tr>\n",
       "      <th>28</th>\n",
       "      <td>https://www.viator.com/Tokyo-attractions/Robot...</td>\n",
       "      <td>d334</td>\n",
       "      <td>a22115</td>\n",
       "    </tr>\n",
       "    <tr>\n",
       "      <th>29</th>\n",
       "      <td>https://www.viator.com/Tokyo-attractions/Tsuki...</td>\n",
       "      <td>d334</td>\n",
       "      <td>a231</td>\n",
       "    </tr>\n",
       "    <tr>\n",
       "      <th>...</th>\n",
       "      <td>...</td>\n",
       "      <td>...</td>\n",
       "      <td>...</td>\n",
       "    </tr>\n",
       "    <tr>\n",
       "      <th>396</th>\n",
       "      <td>https://www.viator.com/St-Petersburg-attractio...</td>\n",
       "      <td>d908</td>\n",
       "      <td>a2855</td>\n",
       "    </tr>\n",
       "    <tr>\n",
       "      <th>397</th>\n",
       "      <td>https://www.viator.com/St-Petersburg-attractio...</td>\n",
       "      <td>d908</td>\n",
       "      <td>a2856</td>\n",
       "    </tr>\n",
       "    <tr>\n",
       "      <th>398</th>\n",
       "      <td>https://www.viator.com/Bayeux-attractions/Mont...</td>\n",
       "      <td>d909</td>\n",
       "      <td>a1630</td>\n",
       "    </tr>\n",
       "    <tr>\n",
       "      <th>399</th>\n",
       "      <td>https://www.viator.com/Bayeux-attractions/Baye...</td>\n",
       "      <td>d909</td>\n",
       "      <td>a7988</td>\n",
       "    </tr>\n",
       "    <tr>\n",
       "      <th>400</th>\n",
       "      <td>https://www.viator.com/San-Antonio-attractions...</td>\n",
       "      <td>d910</td>\n",
       "      <td>a18439</td>\n",
       "    </tr>\n",
       "    <tr>\n",
       "      <th>401</th>\n",
       "      <td>https://www.viator.com/Killarney-attractions/R...</td>\n",
       "      <td>d911</td>\n",
       "      <td>a2198</td>\n",
       "    </tr>\n",
       "    <tr>\n",
       "      <th>402</th>\n",
       "      <td>https://www.viator.com/Tel-Aviv-attractions/Ei...</td>\n",
       "      <td>d920</td>\n",
       "      <td>a12639</td>\n",
       "    </tr>\n",
       "    <tr>\n",
       "      <th>403</th>\n",
       "      <td>https://www.viator.com/Tel-Aviv-attractions/Go...</td>\n",
       "      <td>d920</td>\n",
       "      <td>a12640</td>\n",
       "    </tr>\n",
       "    <tr>\n",
       "      <th>404</th>\n",
       "      <td>https://www.viator.com/Tel-Aviv-attractions/Na...</td>\n",
       "      <td>d920</td>\n",
       "      <td>a2926</td>\n",
       "    </tr>\n",
       "    <tr>\n",
       "      <th>405</th>\n",
       "      <td>https://www.viator.com/Jerusalem-attractions/D...</td>\n",
       "      <td>d921</td>\n",
       "      <td>a2919</td>\n",
       "    </tr>\n",
       "    <tr>\n",
       "      <th>406</th>\n",
       "      <td>https://www.viator.com/Jerusalem-attractions/C...</td>\n",
       "      <td>d921</td>\n",
       "      <td>a18549</td>\n",
       "    </tr>\n",
       "    <tr>\n",
       "      <th>407</th>\n",
       "      <td>https://www.viator.com/Jerusalem-attractions/B...</td>\n",
       "      <td>d921</td>\n",
       "      <td>a2927</td>\n",
       "    </tr>\n",
       "    <tr>\n",
       "      <th>408</th>\n",
       "      <td>https://www.viator.com/Peru-attractions/Peruvi...</td>\n",
       "      <td>d927</td>\n",
       "      <td>a12883</td>\n",
       "    </tr>\n",
       "    <tr>\n",
       "      <th>409</th>\n",
       "      <td>https://www.viator.com/Patagonia-attractions/P...</td>\n",
       "      <td>d934</td>\n",
       "      <td>a8329</td>\n",
       "    </tr>\n",
       "    <tr>\n",
       "      <th>410</th>\n",
       "      <td>https://www.viator.com/El-Calafate-attractions...</td>\n",
       "      <td>d935</td>\n",
       "      <td>a2764</td>\n",
       "    </tr>\n",
       "    <tr>\n",
       "      <th>411</th>\n",
       "      <td>https://www.viator.com/Cusco-attractions/Machu...</td>\n",
       "      <td>d937</td>\n",
       "      <td>a3358</td>\n",
       "    </tr>\n",
       "    <tr>\n",
       "      <th>412</th>\n",
       "      <td>https://www.viator.com/Launceston-attractions/...</td>\n",
       "      <td>d939</td>\n",
       "      <td>a3742</td>\n",
       "    </tr>\n",
       "    <tr>\n",
       "      <th>413</th>\n",
       "      <td>https://www.viator.com/Sorrento-attractions/Po...</td>\n",
       "      <td>d947</td>\n",
       "      <td>a4289</td>\n",
       "    </tr>\n",
       "    <tr>\n",
       "      <th>414</th>\n",
       "      <td>https://www.viator.com/Panama-City-attractions...</td>\n",
       "      <td>d950</td>\n",
       "      <td>a4314</td>\n",
       "    </tr>\n",
       "    <tr>\n",
       "      <th>415</th>\n",
       "      <td>https://www.viator.com/Panama-City-attractions...</td>\n",
       "      <td>d950</td>\n",
       "      <td>a4311</td>\n",
       "    </tr>\n",
       "    <tr>\n",
       "      <th>416</th>\n",
       "      <td>https://www.viator.com/Mumbai-attractions/Boll...</td>\n",
       "      <td>d953</td>\n",
       "      <td>a4627</td>\n",
       "    </tr>\n",
       "    <tr>\n",
       "      <th>417</th>\n",
       "      <td>https://www.viator.com/Malaga-attractions/Rond...</td>\n",
       "      <td>d956</td>\n",
       "      <td>a4866</td>\n",
       "    </tr>\n",
       "    <tr>\n",
       "      <th>418</th>\n",
       "      <td>https://www.viator.com/Mykonos-attractions/Del...</td>\n",
       "      <td>d958</td>\n",
       "      <td>a5084</td>\n",
       "    </tr>\n",
       "    <tr>\n",
       "      <th>419</th>\n",
       "      <td>https://www.viator.com/Santorini-attractions/O...</td>\n",
       "      <td>d959</td>\n",
       "      <td>a5126</td>\n",
       "    </tr>\n",
       "    <tr>\n",
       "      <th>420</th>\n",
       "      <td>https://www.viator.com/Santorini-attractions/S...</td>\n",
       "      <td>d959</td>\n",
       "      <td>a5075</td>\n",
       "    </tr>\n",
       "    <tr>\n",
       "      <th>421</th>\n",
       "      <td>https://www.viator.com/Grenada-attractions/Gra...</td>\n",
       "      <td>d967</td>\n",
       "      <td>a4767</td>\n",
       "    </tr>\n",
       "    <tr>\n",
       "      <th>422</th>\n",
       "      <td>https://www.viator.com/Foz-do-Iguacu-attractio...</td>\n",
       "      <td>d970</td>\n",
       "      <td>a5362</td>\n",
       "    </tr>\n",
       "    <tr>\n",
       "      <th>423</th>\n",
       "      <td>https://www.viator.com/Seoul-attractions/DMZ-t...</td>\n",
       "      <td>d973</td>\n",
       "      <td>a8969</td>\n",
       "    </tr>\n",
       "    <tr>\n",
       "      <th>424</th>\n",
       "      <td>https://www.viator.com/Bali-attractions/Nusa-L...</td>\n",
       "      <td>d98</td>\n",
       "      <td>a2620</td>\n",
       "    </tr>\n",
       "    <tr>\n",
       "      <th>425</th>\n",
       "      <td>https://www.viator.com/Bali-attractions/Tanah-...</td>\n",
       "      <td>d98</td>\n",
       "      <td>a12903</td>\n",
       "    </tr>\n",
       "  </tbody>\n",
       "</table>\n",
       "<p>426 rows × 3 columns</p>\n",
       "</div>"
      ],
      "text/plain": [
       "                                             URL Clean Destination Attraction\n",
       "0    https://www.viator.com/South-Australia-attract...        d123     a12593\n",
       "1    https://www.viator.com/Tasmania-attractions/Cr...        d124       a373\n",
       "2    https://www.viator.com/North-Island-attraction...        d128     a10016\n",
       "3    https://www.viator.com/Hong-Kong-attractions/S...         d14       a138\n",
       "4    https://www.viator.com/Hong-Kong-attractions/N...         d14      a6603\n",
       "5    https://www.viator.com/Hong-Kong-attractions/L...         d14       a134\n",
       "6    https://www.viator.com/Indonesia-attractions/K...         d15     a10185\n",
       "7    https://www.viator.com/Indonesia-attractions/B...         d15     a16209\n",
       "8    https://www.viator.com/Japan-attractions/Hiros...         d16       a203\n",
       "9    https://www.viator.com/Singapore-attractions/S...         d18        a36\n",
       "10   https://www.viator.com/Singapore-attractions/S...         d18        a35\n",
       "11   https://www.viator.com/Singapore-attractions/G...         d18      a8588\n",
       "12   https://www.viator.com/Singapore-attractions/S...         d18       a143\n",
       "13   https://www.viator.com/Sicily-attractions/Moun...        d205      a7649\n",
       "14   https://www.viator.com/Bohemia-attractions/Kut...      d22153     a10610\n",
       "15   https://www.viator.com/South-Dakota-attraction...      d22169     a19544\n",
       "16   https://www.viator.com/Andalucia-and-Costa-del...        d228     a18042\n",
       "17   https://www.viator.com/New-Zealand-attractions...         d24     a12105\n",
       "18   https://www.viator.com/Tahiti-attractions/Pape...         d25      a2676\n",
       "19   https://www.viator.com/Alaska-attractions/Anch...        d270      a2693\n",
       "20   https://www.viator.com/Maryland-attractions/An...        d282      a2875\n",
       "21   https://www.viator.com/Patagonia-attractions/C...        d308     a15955\n",
       "22   https://www.viator.com/Cayman-Islands-attracti...         d31      a2435\n",
       "23   https://www.viator.com/Beijing-attractions/Gre...        d321       a170\n",
       "24   https://www.viator.com/Beijing-attractions/Gre...        d321     a10136\n",
       "25   https://www.viator.com/Kyoto-attractions/Kyoto...        d332       a194\n",
       "26   https://www.viator.com/Kyoto-attractions/Arash...        d332       a188\n",
       "27   https://www.viator.com/Tokyo-attractions/Mt-Fu...        d334        a86\n",
       "28   https://www.viator.com/Tokyo-attractions/Robot...        d334     a22115\n",
       "29   https://www.viator.com/Tokyo-attractions/Tsuki...        d334       a231\n",
       "..                                                 ...         ...        ...\n",
       "396  https://www.viator.com/St-Petersburg-attractio...        d908      a2855\n",
       "397  https://www.viator.com/St-Petersburg-attractio...        d908      a2856\n",
       "398  https://www.viator.com/Bayeux-attractions/Mont...        d909      a1630\n",
       "399  https://www.viator.com/Bayeux-attractions/Baye...        d909      a7988\n",
       "400  https://www.viator.com/San-Antonio-attractions...        d910     a18439\n",
       "401  https://www.viator.com/Killarney-attractions/R...        d911      a2198\n",
       "402  https://www.viator.com/Tel-Aviv-attractions/Ei...        d920     a12639\n",
       "403  https://www.viator.com/Tel-Aviv-attractions/Go...        d920     a12640\n",
       "404  https://www.viator.com/Tel-Aviv-attractions/Na...        d920      a2926\n",
       "405  https://www.viator.com/Jerusalem-attractions/D...        d921      a2919\n",
       "406  https://www.viator.com/Jerusalem-attractions/C...        d921     a18549\n",
       "407  https://www.viator.com/Jerusalem-attractions/B...        d921      a2927\n",
       "408  https://www.viator.com/Peru-attractions/Peruvi...        d927     a12883\n",
       "409  https://www.viator.com/Patagonia-attractions/P...        d934      a8329\n",
       "410  https://www.viator.com/El-Calafate-attractions...        d935      a2764\n",
       "411  https://www.viator.com/Cusco-attractions/Machu...        d937      a3358\n",
       "412  https://www.viator.com/Launceston-attractions/...        d939      a3742\n",
       "413  https://www.viator.com/Sorrento-attractions/Po...        d947      a4289\n",
       "414  https://www.viator.com/Panama-City-attractions...        d950      a4314\n",
       "415  https://www.viator.com/Panama-City-attractions...        d950      a4311\n",
       "416  https://www.viator.com/Mumbai-attractions/Boll...        d953      a4627\n",
       "417  https://www.viator.com/Malaga-attractions/Rond...        d956      a4866\n",
       "418  https://www.viator.com/Mykonos-attractions/Del...        d958      a5084\n",
       "419  https://www.viator.com/Santorini-attractions/O...        d959      a5126\n",
       "420  https://www.viator.com/Santorini-attractions/S...        d959      a5075\n",
       "421  https://www.viator.com/Grenada-attractions/Gra...        d967      a4767\n",
       "422  https://www.viator.com/Foz-do-Iguacu-attractio...        d970      a5362\n",
       "423  https://www.viator.com/Seoul-attractions/DMZ-t...        d973      a8969\n",
       "424  https://www.viator.com/Bali-attractions/Nusa-L...         d98      a2620\n",
       "425  https://www.viator.com/Bali-attractions/Tanah-...         d98     a12903\n",
       "\n",
       "[426 rows x 3 columns]"
      ]
     },
     "execution_count": 148,
     "metadata": {},
     "output_type": "execute_result"
    }
   ],
   "source": [
    "df"
   ]
  },
  {
   "cell_type": "code",
   "execution_count": 149,
   "metadata": {
    "collapsed": false
   },
   "outputs": [],
   "source": [
    "def getPrice(x):\n",
    "    page = requests.get(x)\n",
    "    tree = html.fromstring(page.content)\n",
    "    price = tree.xpath('//span[@class=\"price-amount\"]/text()')\n",
    "    price_float = []\n",
    "    for i in price:\n",
    "        try:\n",
    "            price_float.append(float(i))\n",
    "        except:\n",
    "            print('something wrong here')\n",
    "    return min(price_float)"
   ]
  },
  {
   "cell_type": "code",
   "execution_count": 151,
   "metadata": {
    "collapsed": false,
    "scrolled": true
   },
   "outputs": [
    {
     "name": "stdout",
     "output_type": "stream",
     "text": [
      "something wrong here\n",
      "something wrong here\n",
      "something wrong here\n",
      "something wrong here\n",
      "something wrong here\n",
      "something wrong here\n",
      "something wrong here\n",
      "something wrong here\n",
      "something wrong here\n",
      "something wrong here\n",
      "something wrong here\n",
      "something wrong here\n",
      "something wrong here\n",
      "something wrong here\n",
      "something wrong here\n",
      "something wrong here\n",
      "something wrong here\n",
      "something wrong here\n",
      "something wrong here\n",
      "something wrong here\n",
      "something wrong here\n",
      "something wrong here\n",
      "something wrong here\n",
      "something wrong here\n",
      "something wrong here\n",
      "something wrong here\n",
      "something wrong here\n",
      "something wrong here\n",
      "something wrong here\n",
      "something wrong here\n",
      "something wrong here\n",
      "something wrong here\n",
      "something wrong here\n",
      "something wrong here\n",
      "something wrong here\n",
      "something wrong here\n",
      "something wrong here\n",
      "something wrong here\n",
      "something wrong here\n",
      "something wrong here\n",
      "something wrong here\n",
      "something wrong here\n",
      "something wrong here\n",
      "something wrong here\n",
      "something wrong here\n",
      "something wrong here\n",
      "something wrong here\n",
      "something wrong here\n",
      "something wrong here\n",
      "something wrong here\n",
      "something wrong here\n",
      "something wrong here\n",
      "something wrong here\n",
      "something wrong here\n",
      "something wrong here\n",
      "something wrong here\n",
      "something wrong here\n",
      "something wrong here\n",
      "something wrong here\n",
      "something wrong here\n",
      "something wrong here\n",
      "something wrong here\n",
      "something wrong here\n",
      "something wrong here\n",
      "something wrong here\n",
      "something wrong here\n",
      "something wrong here\n",
      "something wrong here\n",
      "something wrong here\n",
      "something wrong here\n",
      "something wrong here\n",
      "something wrong here\n",
      "something wrong here\n",
      "something wrong here\n",
      "something wrong here\n",
      "something wrong here\n",
      "something wrong here\n",
      "something wrong here\n",
      "something wrong here\n",
      "something wrong here\n",
      "something wrong here\n",
      "something wrong here\n"
     ]
    }
   ],
   "source": [
    "for i in df['URL Clean']:\n",
    "    min_price = getPrice(i)\n",
    "    prices.append([i, min_price])"
   ]
  },
  {
   "cell_type": "code",
   "execution_count": 150,
   "metadata": {
    "collapsed": false
   },
   "outputs": [],
   "source": [
    "prices"
   ]
  },
  {
   "cell_type": "code",
   "execution_count": 129,
   "metadata": {
    "collapsed": false
   },
   "outputs": [],
   "source": [
    "url = 'https://www.viator.com/Japan-attractions/Hiroshima-tours-tickets/d16-a203'"
   ]
  },
  {
   "cell_type": "code",
   "execution_count": 130,
   "metadata": {
    "collapsed": true
   },
   "outputs": [],
   "source": [
    "page = requests.get(url)\n",
    "tree = html.fromstring(page.content)"
   ]
  },
  {
   "cell_type": "code",
   "execution_count": 131,
   "metadata": {
    "collapsed": false
   },
   "outputs": [],
   "source": [
    "price = tree.xpath('//span[@class=\"price-amount\"]/text()')"
   ]
  },
  {
   "cell_type": "code",
   "execution_count": 132,
   "metadata": {
    "collapsed": false
   },
   "outputs": [
    {
     "data": {
      "text/plain": [
       "['142.32', '355.80', '399.23', '733.77', '355.80', '733.77', '4,650.00']"
      ]
     },
     "execution_count": 132,
     "metadata": {},
     "output_type": "execute_result"
    }
   ],
   "source": [
    "price"
   ]
  },
  {
   "cell_type": "code",
   "execution_count": 134,
   "metadata": {
    "collapsed": false
   },
   "outputs": [
    {
     "data": {
      "text/plain": [
       "'142.32'"
      ]
     },
     "execution_count": 134,
     "metadata": {},
     "output_type": "execute_result"
    }
   ],
   "source": [
    "min(price)"
   ]
  },
  {
   "cell_type": "code",
   "execution_count": 133,
   "metadata": {
    "collapsed": false
   },
   "outputs": [
    {
     "ename": "ValueError",
     "evalue": "could not convert string to float: '4,650.00'",
     "output_type": "error",
     "traceback": [
      "\u001b[0;31m---------------------------------------------------------------------------\u001b[0m",
      "\u001b[0;31mValueError\u001b[0m                                Traceback (most recent call last)",
      "\u001b[0;32m<ipython-input-133-3283a2d11e05>\u001b[0m in \u001b[0;36m<module>\u001b[0;34m()\u001b[0m\n\u001b[1;32m      1\u001b[0m \u001b[0mprice_float\u001b[0m \u001b[1;33m=\u001b[0m \u001b[1;33m[\u001b[0m\u001b[1;33m]\u001b[0m\u001b[1;33m\u001b[0m\u001b[0m\n\u001b[1;32m      2\u001b[0m \u001b[1;32mfor\u001b[0m \u001b[0mi\u001b[0m \u001b[1;32min\u001b[0m \u001b[0mprice\u001b[0m\u001b[1;33m:\u001b[0m\u001b[1;33m\u001b[0m\u001b[0m\n\u001b[0;32m----> 3\u001b[0;31m     \u001b[0mprice_float\u001b[0m\u001b[1;33m.\u001b[0m\u001b[0mappend\u001b[0m\u001b[1;33m(\u001b[0m\u001b[0mfloat\u001b[0m\u001b[1;33m(\u001b[0m\u001b[0mi\u001b[0m\u001b[1;33m)\u001b[0m\u001b[1;33m)\u001b[0m\u001b[1;33m\u001b[0m\u001b[0m\n\u001b[0m",
      "\u001b[0;31mValueError\u001b[0m: could not convert string to float: '4,650.00'"
     ]
    }
   ],
   "source": [
    "price_float = []\n",
    "for i in price:\n",
    "    price_float.append(float(i))"
   ]
  },
  {
   "cell_type": "code",
   "execution_count": 113,
   "metadata": {
    "collapsed": false
   },
   "outputs": [
    {
     "data": {
      "text/plain": [
       "50.41"
      ]
     },
     "execution_count": 113,
     "metadata": {},
     "output_type": "execute_result"
    }
   ],
   "source": [
    "min(price_float)"
   ]
  },
  {
   "cell_type": "code",
   "execution_count": 152,
   "metadata": {
    "collapsed": false
   },
   "outputs": [],
   "source": [
    "df_prices = pd.DataFrame(data=prices, columns=['URL', 'Price from'])"
   ]
  },
  {
   "cell_type": "code",
   "execution_count": 157,
   "metadata": {
    "collapsed": false
   },
   "outputs": [
    {
     "data": {
      "text/html": [
       "<div>\n",
       "<table border=\"1\" class=\"dataframe\">\n",
       "  <thead>\n",
       "    <tr style=\"text-align: right;\">\n",
       "      <th></th>\n",
       "      <th>URL</th>\n",
       "      <th>Price from</th>\n",
       "    </tr>\n",
       "  </thead>\n",
       "  <tbody>\n",
       "    <tr>\n",
       "      <th>183</th>\n",
       "      <td>https://www.viator.com/Taipei-attractions/Kaoh...</td>\n",
       "      <td>350.0</td>\n",
       "    </tr>\n",
       "  </tbody>\n",
       "</table>\n",
       "</div>"
      ],
      "text/plain": [
       "                                                   URL  Price from\n",
       "183  https://www.viator.com/Taipei-attractions/Kaoh...       350.0"
      ]
     },
     "execution_count": 157,
     "metadata": {},
     "output_type": "execute_result"
    }
   ],
   "source": [
    "df_prices[df_prices['Price from'] == 350]"
   ]
  },
  {
   "cell_type": "code",
   "execution_count": 158,
   "metadata": {
    "collapsed": false
   },
   "outputs": [
    {
     "data": {
      "text/plain": [
       "'https://www.viator.com/Taipei-attractions/Kaohsiung-tours-tickets/d5262-a13982'"
      ]
     },
     "execution_count": 158,
     "metadata": {},
     "output_type": "execute_result"
    }
   ],
   "source": [
    "df_prices.loc[183]['URL']"
   ]
  },
  {
   "cell_type": "code",
   "execution_count": 159,
   "metadata": {
    "collapsed": true
   },
   "outputs": [],
   "source": [
    "df_prices.to_excel('prices_from.xlsx')"
   ]
  },
  {
   "cell_type": "code",
   "execution_count": null,
   "metadata": {
    "collapsed": true
   },
   "outputs": [],
   "source": []
  }
 ],
 "metadata": {
  "kernelspec": {
   "display_name": "Python 3",
   "language": "python",
   "name": "python3"
  },
  "language_info": {
   "codemirror_mode": {
    "name": "ipython",
    "version": 3
   },
   "file_extension": ".py",
   "mimetype": "text/x-python",
   "name": "python",
   "nbconvert_exporter": "python",
   "pygments_lexer": "ipython3",
   "version": "3.6.0"
  }
 },
 "nbformat": 4,
 "nbformat_minor": 2
}
