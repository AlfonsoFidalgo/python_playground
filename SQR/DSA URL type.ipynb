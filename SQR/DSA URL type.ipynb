{
 "cells": [
  {
   "cell_type": "code",
   "execution_count": 1,
   "metadata": {
    "collapsed": true
   },
   "outputs": [],
   "source": [
    "import numpy as np"
   ]
  },
  {
   "cell_type": "code",
   "execution_count": 2,
   "metadata": {
    "collapsed": true
   },
   "outputs": [],
   "source": [
    "import pandas as pd"
   ]
  },
  {
   "cell_type": "code",
   "execution_count": 3,
   "metadata": {
    "collapsed": false
   },
   "outputs": [],
   "source": [
    "import matplotlib.pyplot as plt\n",
    "import seaborn as sns\n",
    "%matplotlib inline"
   ]
  },
  {
   "cell_type": "code",
   "execution_count": 4,
   "metadata": {
    "collapsed": false
   },
   "outputs": [],
   "source": [
    "df = pd.read_excel('dsa_sqr_200417.xlsx', header=1) #header indicate the row where they are"
   ]
  },
  {
   "cell_type": "code",
   "execution_count": 15,
   "metadata": {
    "collapsed": false
   },
   "outputs": [
    {
     "data": {
      "text/html": [
       "<div>\n",
       "<table border=\"1\" class=\"dataframe\">\n",
       "  <thead>\n",
       "    <tr style=\"text-align: right;\">\n",
       "      <th></th>\n",
       "      <th>Search term</th>\n",
       "      <th>Ad group</th>\n",
       "      <th>Campaign</th>\n",
       "      <th>Added/Excluded</th>\n",
       "      <th>Dynamically generated Headline</th>\n",
       "      <th>Categories</th>\n",
       "      <th>Landing Page Title</th>\n",
       "      <th>URL</th>\n",
       "      <th>Clicks</th>\n",
       "      <th>Impressions</th>\n",
       "      <th>CTR</th>\n",
       "      <th>Avg. CPC</th>\n",
       "      <th>Cost</th>\n",
       "      <th>Conversions</th>\n",
       "      <th>Cost / conv.</th>\n",
       "      <th>Conv. rate</th>\n",
       "      <th>All conv.</th>\n",
       "      <th>URLtype</th>\n",
       "      <th>URL Cat</th>\n",
       "    </tr>\n",
       "  </thead>\n",
       "  <tbody>\n",
       "    <tr>\n",
       "      <th>0</th>\n",
       "      <td>kreta santorin</td>\n",
       "      <td>DSA - Brand</td>\n",
       "      <td>German - Generic (DSA)</td>\n",
       "      <td>None</td>\n",
       "      <td>Unabhängiger Tagesausflug zur Insel Santorin v...</td>\n",
       "      <td>griechenland\\ngriechenland/kreta</td>\n",
       "      <td>Unabhängiger Tagesausflug zur Insel Santorin v...</td>\n",
       "      <td>https://www.viatorcom.de/de/7132/tours/Herakli...</td>\n",
       "      <td>3</td>\n",
       "      <td>30</td>\n",
       "      <td>0.1000</td>\n",
       "      <td>0.20</td>\n",
       "      <td>0.61</td>\n",
       "      <td>0</td>\n",
       "      <td>0.0</td>\n",
       "      <td>0.0</td>\n",
       "      <td>0</td>\n",
       "      <td>d961-2462SANT</td>\n",
       "      <td>Product</td>\n",
       "    </tr>\n",
       "    <tr>\n",
       "      <th>1</th>\n",
       "      <td>stadtrundfahrt montreal</td>\n",
       "      <td>DSA - Brand</td>\n",
       "      <td>German - Generic (DSA)</td>\n",
       "      <td>None</td>\n",
       "      <td>Montreal Sehenswürdigkeiten &amp;amp; Aktivitäten,...</td>\n",
       "      <td>kanada\\nkanada/québec\\nkanada/québec/montreal</td>\n",
       "      <td>Die 10 Besten Montreal Sehenswürdigkeiten &amp; Ak...</td>\n",
       "      <td>https://www.viatorcom.de/de/7132/Montreal/d625...</td>\n",
       "      <td>1</td>\n",
       "      <td>1</td>\n",
       "      <td>1.0000</td>\n",
       "      <td>0.07</td>\n",
       "      <td>0.07</td>\n",
       "      <td>0</td>\n",
       "      <td>0.0</td>\n",
       "      <td>0.0</td>\n",
       "      <td>0</td>\n",
       "      <td>d625-ttd</td>\n",
       "      <td>TTD</td>\n",
       "    </tr>\n",
       "    <tr>\n",
       "      <th>2</th>\n",
       "      <td>hanoi halong tours</td>\n",
       "      <td>DSA - Brand</td>\n",
       "      <td>German - Generic (DSA)</td>\n",
       "      <td>None</td>\n",
       "      <td>3-tägige Dschunken-Bootsfahrt in der Halong-Bu...</td>\n",
       "      <td>vietnam</td>\n",
       "      <td>3-tägige Dschunken-Bootsfahrt in der Halong-Bu...</td>\n",
       "      <td>https://www.viatorcom.de/de/7132/tours/Hanoi/H...</td>\n",
       "      <td>1</td>\n",
       "      <td>1</td>\n",
       "      <td>1.0000</td>\n",
       "      <td>1.02</td>\n",
       "      <td>1.02</td>\n",
       "      <td>0</td>\n",
       "      <td>0.0</td>\n",
       "      <td>0.0</td>\n",
       "      <td>0</td>\n",
       "      <td>d351-2514HAN_HBJ3DD</td>\n",
       "      <td>Product</td>\n",
       "    </tr>\n",
       "    <tr>\n",
       "      <th>3</th>\n",
       "      <td>kochkurs barcelona</td>\n",
       "      <td>DSA - Brand</td>\n",
       "      <td>German - Generic (DSA)</td>\n",
       "      <td>None</td>\n",
       "      <td>Die 10 Besten Barcelona Kochkurse - viatorcom.de</td>\n",
       "      <td>spanien\\nspanien/katalonien\\nspanien/katalonie...</td>\n",
       "      <td>Die 10 Besten Barcelona Kochkurse</td>\n",
       "      <td>https://www.viatorcom.de/de/7132/Barcelona-tou...</td>\n",
       "      <td>4</td>\n",
       "      <td>12</td>\n",
       "      <td>0.3333</td>\n",
       "      <td>0.06</td>\n",
       "      <td>0.25</td>\n",
       "      <td>0</td>\n",
       "      <td>0.0</td>\n",
       "      <td>0.0</td>\n",
       "      <td>0</td>\n",
       "      <td>d562-g6-c19</td>\n",
       "      <td>Group/Category</td>\n",
       "    </tr>\n",
       "    <tr>\n",
       "      <th>4</th>\n",
       "      <td>reisen zum chinesiche mauer</td>\n",
       "      <td>DSA - Brand</td>\n",
       "      <td>German - Generic (DSA)</td>\n",
       "      <td>None</td>\n",
       "      <td>Chinesische Mauer - Tagesausflug in kleiner Gr...</td>\n",
       "      <td>china</td>\n",
       "      <td>Chinesische Mauer - Tagesausflug in kleiner Gr...</td>\n",
       "      <td>https://www.viatorcom.de/de/7132/tours/Beijing...</td>\n",
       "      <td>1</td>\n",
       "      <td>1</td>\n",
       "      <td>1.0000</td>\n",
       "      <td>0.39</td>\n",
       "      <td>0.39</td>\n",
       "      <td>0</td>\n",
       "      <td>0.0</td>\n",
       "      <td>0.0</td>\n",
       "      <td>0</td>\n",
       "      <td>d321-5262CNUD</td>\n",
       "      <td>Product</td>\n",
       "    </tr>\n",
       "  </tbody>\n",
       "</table>\n",
       "</div>"
      ],
      "text/plain": [
       "                   Search term     Ad group                Campaign  \\\n",
       "0               kreta santorin  DSA - Brand  German - Generic (DSA)   \n",
       "1      stadtrundfahrt montreal  DSA - Brand  German - Generic (DSA)   \n",
       "2           hanoi halong tours  DSA - Brand  German - Generic (DSA)   \n",
       "3           kochkurs barcelona  DSA - Brand  German - Generic (DSA)   \n",
       "4  reisen zum chinesiche mauer  DSA - Brand  German - Generic (DSA)   \n",
       "\n",
       "  Added/Excluded                     Dynamically generated Headline  \\\n",
       "0           None  Unabhängiger Tagesausflug zur Insel Santorin v...   \n",
       "1           None  Montreal Sehenswürdigkeiten &amp; Aktivitäten,...   \n",
       "2           None  3-tägige Dschunken-Bootsfahrt in der Halong-Bu...   \n",
       "3           None   Die 10 Besten Barcelona Kochkurse - viatorcom.de   \n",
       "4           None  Chinesische Mauer - Tagesausflug in kleiner Gr...   \n",
       "\n",
       "                                          Categories  \\\n",
       "0                   griechenland\\ngriechenland/kreta   \n",
       "1      kanada\\nkanada/québec\\nkanada/québec/montreal   \n",
       "2                                            vietnam   \n",
       "3  spanien\\nspanien/katalonien\\nspanien/katalonie...   \n",
       "4                                              china   \n",
       "\n",
       "                                  Landing Page Title  \\\n",
       "0  Unabhängiger Tagesausflug zur Insel Santorin v...   \n",
       "1  Die 10 Besten Montreal Sehenswürdigkeiten & Ak...   \n",
       "2  3-tägige Dschunken-Bootsfahrt in der Halong-Bu...   \n",
       "3                  Die 10 Besten Barcelona Kochkurse   \n",
       "4  Chinesische Mauer - Tagesausflug in kleiner Gr...   \n",
       "\n",
       "                                                 URL  Clicks  Impressions  \\\n",
       "0  https://www.viatorcom.de/de/7132/tours/Herakli...       3           30   \n",
       "1  https://www.viatorcom.de/de/7132/Montreal/d625...       1            1   \n",
       "2  https://www.viatorcom.de/de/7132/tours/Hanoi/H...       1            1   \n",
       "3  https://www.viatorcom.de/de/7132/Barcelona-tou...       4           12   \n",
       "4  https://www.viatorcom.de/de/7132/tours/Beijing...       1            1   \n",
       "\n",
       "      CTR  Avg. CPC  Cost  Conversions  Cost / conv.  Conv. rate  All conv.  \\\n",
       "0  0.1000      0.20  0.61            0           0.0         0.0          0   \n",
       "1  1.0000      0.07  0.07            0           0.0         0.0          0   \n",
       "2  1.0000      1.02  1.02            0           0.0         0.0          0   \n",
       "3  0.3333      0.06  0.25            0           0.0         0.0          0   \n",
       "4  1.0000      0.39  0.39            0           0.0         0.0          0   \n",
       "\n",
       "               URLtype         URL Cat  \n",
       "0        d961-2462SANT         Product  \n",
       "1             d625-ttd             TTD  \n",
       "2  d351-2514HAN_HBJ3DD         Product  \n",
       "3          d562-g6-c19  Group/Category  \n",
       "4        d321-5262CNUD         Product  "
      ]
     },
     "execution_count": 15,
     "metadata": {},
     "output_type": "execute_result"
    }
   ],
   "source": [
    "df.head()"
   ]
  },
  {
   "cell_type": "markdown",
   "metadata": {},
   "source": [
    "# Code to parse URLs and categorise by type"
   ]
  },
  {
   "cell_type": "code",
   "execution_count": 9,
   "metadata": {
    "collapsed": false
   },
   "outputs": [],
   "source": [
    "def parseUrl (url):\n",
    "    arr = url.split('/')\n",
    "    if len(arr[len(arr)-1]) == 1:\n",
    "        return arr[len(arr)-2]\n",
    "    else:\n",
    "        return arr[len(arr)-1]"
   ]
  },
  {
   "cell_type": "code",
   "execution_count": 10,
   "metadata": {
    "collapsed": true
   },
   "outputs": [],
   "source": [
    "def categorise (url):\n",
    "    if '-ttd' in url:\n",
    "        return 'TTD'\n",
    "    elif '-t' in url:\n",
    "        return 'Recommendation'\n",
    "    elif '-g' in url:\n",
    "        return 'Group/Category'\n",
    "    elif '-a' in url:\n",
    "        return 'Attraction'\n",
    "    elif '-' not in url:\n",
    "        return 'TTD'\n",
    "    else:\n",
    "        return 'Product'"
   ]
  },
  {
   "cell_type": "code",
   "execution_count": 11,
   "metadata": {
    "collapsed": true
   },
   "outputs": [],
   "source": [
    "df['URLtype'] = df['URL'].apply(parseUrl)\n",
    "df['URL Cat'] = df['URLtype'].apply(categorise)"
   ]
  },
  {
   "cell_type": "code",
   "execution_count": 18,
   "metadata": {
    "collapsed": false,
    "scrolled": true
   },
   "outputs": [],
   "source": [
    "df['Cat1'] = df['Categories'].apply(parseCat)"
   ]
  },
  {
   "cell_type": "code",
   "execution_count": 19,
   "metadata": {
    "collapsed": false,
    "scrolled": true
   },
   "outputs": [],
   "source": [
    "sqr = df[['Search term','Impressions', 'Clicks' ,'Conversions', 'Cost', 'URL', 'URL Cat', 'Cat1']]"
   ]
  },
  {
   "cell_type": "code",
   "execution_count": 20,
   "metadata": {
    "collapsed": false
   },
   "outputs": [
    {
     "data": {
      "text/html": [
       "<div>\n",
       "<table border=\"1\" class=\"dataframe\">\n",
       "  <thead>\n",
       "    <tr style=\"text-align: right;\">\n",
       "      <th></th>\n",
       "      <th>Search term</th>\n",
       "      <th>Impressions</th>\n",
       "      <th>Clicks</th>\n",
       "      <th>Conversions</th>\n",
       "      <th>Cost</th>\n",
       "      <th>URL</th>\n",
       "      <th>URL Cat</th>\n",
       "      <th>Cat1</th>\n",
       "    </tr>\n",
       "  </thead>\n",
       "  <tbody>\n",
       "    <tr>\n",
       "      <th>0</th>\n",
       "      <td>kreta santorin</td>\n",
       "      <td>30</td>\n",
       "      <td>3</td>\n",
       "      <td>0</td>\n",
       "      <td>0.61</td>\n",
       "      <td>https://www.viatorcom.de/de/7132/tours/Herakli...</td>\n",
       "      <td>Product</td>\n",
       "      <td>griechenland</td>\n",
       "    </tr>\n",
       "    <tr>\n",
       "      <th>1</th>\n",
       "      <td>stadtrundfahrt montreal</td>\n",
       "      <td>1</td>\n",
       "      <td>1</td>\n",
       "      <td>0</td>\n",
       "      <td>0.07</td>\n",
       "      <td>https://www.viatorcom.de/de/7132/Montreal/d625...</td>\n",
       "      <td>TTD</td>\n",
       "      <td>kanada</td>\n",
       "    </tr>\n",
       "    <tr>\n",
       "      <th>2</th>\n",
       "      <td>hanoi halong tours</td>\n",
       "      <td>1</td>\n",
       "      <td>1</td>\n",
       "      <td>0</td>\n",
       "      <td>1.02</td>\n",
       "      <td>https://www.viatorcom.de/de/7132/tours/Hanoi/H...</td>\n",
       "      <td>Product</td>\n",
       "      <td>vietnam</td>\n",
       "    </tr>\n",
       "    <tr>\n",
       "      <th>3</th>\n",
       "      <td>kochkurs barcelona</td>\n",
       "      <td>12</td>\n",
       "      <td>4</td>\n",
       "      <td>0</td>\n",
       "      <td>0.25</td>\n",
       "      <td>https://www.viatorcom.de/de/7132/Barcelona-tou...</td>\n",
       "      <td>Group/Category</td>\n",
       "      <td>spanien</td>\n",
       "    </tr>\n",
       "    <tr>\n",
       "      <th>4</th>\n",
       "      <td>reisen zum chinesiche mauer</td>\n",
       "      <td>1</td>\n",
       "      <td>1</td>\n",
       "      <td>0</td>\n",
       "      <td>0.39</td>\n",
       "      <td>https://www.viatorcom.de/de/7132/tours/Beijing...</td>\n",
       "      <td>Product</td>\n",
       "      <td>china</td>\n",
       "    </tr>\n",
       "  </tbody>\n",
       "</table>\n",
       "</div>"
      ],
      "text/plain": [
       "                   Search term  Impressions  Clicks  Conversions  Cost  \\\n",
       "0               kreta santorin           30       3            0  0.61   \n",
       "1      stadtrundfahrt montreal            1       1            0  0.07   \n",
       "2           hanoi halong tours            1       1            0  1.02   \n",
       "3           kochkurs barcelona           12       4            0  0.25   \n",
       "4  reisen zum chinesiche mauer            1       1            0  0.39   \n",
       "\n",
       "                                                 URL         URL Cat  \\\n",
       "0  https://www.viatorcom.de/de/7132/tours/Herakli...         Product   \n",
       "1  https://www.viatorcom.de/de/7132/Montreal/d625...             TTD   \n",
       "2  https://www.viatorcom.de/de/7132/tours/Hanoi/H...         Product   \n",
       "3  https://www.viatorcom.de/de/7132/Barcelona-tou...  Group/Category   \n",
       "4  https://www.viatorcom.de/de/7132/tours/Beijing...         Product   \n",
       "\n",
       "           Cat1  \n",
       "0  griechenland  \n",
       "1        kanada  \n",
       "2       vietnam  \n",
       "3       spanien  \n",
       "4         china  "
      ]
     },
     "execution_count": 20,
     "metadata": {},
     "output_type": "execute_result"
    }
   ],
   "source": [
    "sqr.head()"
   ]
  },
  {
   "cell_type": "code",
   "execution_count": 21,
   "metadata": {
    "collapsed": false
   },
   "outputs": [],
   "source": [
    "summary = sqr.groupby('URL Cat').sum()"
   ]
  },
  {
   "cell_type": "code",
   "execution_count": 22,
   "metadata": {
    "collapsed": true
   },
   "outputs": [],
   "source": [
    "summary['CPA'] = summary['Cost']/summary['Conversions']\n",
    "summary['CVR'] = summary['Conversions']/summary['Clicks']"
   ]
  },
  {
   "cell_type": "code",
   "execution_count": 23,
   "metadata": {
    "collapsed": false
   },
   "outputs": [
    {
     "data": {
      "text/plain": [
       "<matplotlib.axes._subplots.AxesSubplot at 0x1f3718765f8>"
      ]
     },
     "execution_count": 23,
     "metadata": {},
     "output_type": "execute_result"
    },
    {
     "data": {
      "image/png": "[encoded data removed]",
      "text/plain": [
       "<matplotlib.figure.Figure at 0x1f3718e12b0>"
      ]
     },
     "metadata": {},
     "output_type": "display_data"
    }
   ],
   "source": [
    "summary['Conversions'].plot.bar()"
   ]
  },
  {
   "cell_type": "code",
   "execution_count": 24,
   "metadata": {
    "collapsed": false
   },
   "outputs": [
    {
     "data": {
      "text/plain": [
       "<matplotlib.text.Text at 0x1f3715528d0>"
      ]
     },
     "execution_count": 24,
     "metadata": {},
     "output_type": "execute_result"
    },
    {
     "data": {
      "image/png": "[encoded data removed]",
      "text/plain": [
       "<matplotlib.figure.Figure at 0x1f3715d9470>"
      ]
     },
     "metadata": {},
     "output_type": "display_data"
    }
   ],
   "source": [
    "plt.figure(figsize=(15,10))\n",
    "sns.barplot(x='URL Cat', y='Conversions', data=sqr, estimator=sum, palette='Blues_d').set_title('Conversions by URL type')"
   ]
  },
  {
   "cell_type": "code",
   "execution_count": 25,
   "metadata": {
    "collapsed": false
   },
   "outputs": [
    {
     "data": {
      "text/plain": [
       "<matplotlib.text.Text at 0x1f371141080>"
      ]
     },
     "execution_count": 25,
     "metadata": {},
     "output_type": "execute_result"
    },
    {
     "data": {
      "image/png": "[encoded data removed]",
      "text/plain": [
       "<matplotlib.figure.Figure at 0x1f371a64208>"
      ]
     },
     "metadata": {},
     "output_type": "display_data"
    }
   ],
   "source": [
    "plt.figure(figsize=(15,10))\n",
    "sns.barplot(x=summary.index, y='CPA', data=summary, palette='Blues_d').set_title('CPA by URL type')"
   ]
  },
  {
   "cell_type": "code",
   "execution_count": 26,
   "metadata": {
    "collapsed": false
   },
   "outputs": [
    {
     "data": {
      "text/html": [
       "<div>\n",
       "<table border=\"1\" class=\"dataframe\">\n",
       "  <thead>\n",
       "    <tr style=\"text-align: right;\">\n",
       "      <th></th>\n",
       "      <th>Impressions</th>\n",
       "      <th>Clicks</th>\n",
       "      <th>Conversions</th>\n",
       "      <th>Cost</th>\n",
       "      <th>CPA</th>\n",
       "      <th>CVR</th>\n",
       "    </tr>\n",
       "    <tr>\n",
       "      <th>URL Cat</th>\n",
       "      <th></th>\n",
       "      <th></th>\n",
       "      <th></th>\n",
       "      <th></th>\n",
       "      <th></th>\n",
       "      <th></th>\n",
       "    </tr>\n",
       "  </thead>\n",
       "  <tbody>\n",
       "    <tr>\n",
       "      <th>Attraction</th>\n",
       "      <td>12041</td>\n",
       "      <td>1298</td>\n",
       "      <td>13</td>\n",
       "      <td>368.47</td>\n",
       "      <td>28.343846</td>\n",
       "      <td>0.010015</td>\n",
       "    </tr>\n",
       "    <tr>\n",
       "      <th>Group/Category</th>\n",
       "      <td>36968</td>\n",
       "      <td>13342</td>\n",
       "      <td>70</td>\n",
       "      <td>2060.49</td>\n",
       "      <td>29.435571</td>\n",
       "      <td>0.005247</td>\n",
       "    </tr>\n",
       "    <tr>\n",
       "      <th>Product</th>\n",
       "      <td>49435</td>\n",
       "      <td>12473</td>\n",
       "      <td>107</td>\n",
       "      <td>3152.41</td>\n",
       "      <td>29.461776</td>\n",
       "      <td>0.008579</td>\n",
       "    </tr>\n",
       "    <tr>\n",
       "      <th>Recommendation</th>\n",
       "      <td>814</td>\n",
       "      <td>217</td>\n",
       "      <td>2</td>\n",
       "      <td>50.14</td>\n",
       "      <td>25.070000</td>\n",
       "      <td>0.009217</td>\n",
       "    </tr>\n",
       "    <tr>\n",
       "      <th>TTD</th>\n",
       "      <td>42333</td>\n",
       "      <td>9801</td>\n",
       "      <td>31</td>\n",
       "      <td>1306.93</td>\n",
       "      <td>42.159032</td>\n",
       "      <td>0.003163</td>\n",
       "    </tr>\n",
       "  </tbody>\n",
       "</table>\n",
       "</div>"
      ],
      "text/plain": [
       "                Impressions  Clicks  Conversions     Cost        CPA       CVR\n",
       "URL Cat                                                                       \n",
       "Attraction            12041    1298           13   368.47  28.343846  0.010015\n",
       "Group/Category        36968   13342           70  2060.49  29.435571  0.005247\n",
       "Product               49435   12473          107  3152.41  29.461776  0.008579\n",
       "Recommendation          814     217            2    50.14  25.070000  0.009217\n",
       "TTD                   42333    9801           31  1306.93  42.159032  0.003163"
      ]
     },
     "execution_count": 26,
     "metadata": {},
     "output_type": "execute_result"
    }
   ],
   "source": [
    "summary"
   ]
  },
  {
   "cell_type": "code",
   "execution_count": 27,
   "metadata": {
    "collapsed": false
   },
   "outputs": [
    {
     "data": {
      "text/plain": [
       "<matplotlib.axes._subplots.AxesSubplot at 0x1f37113e9e8>"
      ]
     },
     "execution_count": 27,
     "metadata": {},
     "output_type": "execute_result"
    },
    {
     "data": {
      "image/png": "[encoded data removed]",
      "text/plain": [
       "<matplotlib.figure.Figure at 0x1f37054c198>"
      ]
     },
     "metadata": {},
     "output_type": "display_data"
    }
   ],
   "source": [
    "summary['Cost'].plot.bar()"
   ]
  },
  {
   "cell_type": "code",
   "execution_count": 28,
   "metadata": {
    "collapsed": false
   },
   "outputs": [
    {
     "data": {
      "text/plain": [
       "<matplotlib.axes._subplots.AxesSubplot at 0x1f3712e7e80>"
      ]
     },
     "execution_count": 28,
     "metadata": {},
     "output_type": "execute_result"
    },
    {
     "data": {
      "image/png": "[encoded data removed]",
      "text/plain": [
       "<matplotlib.figure.Figure at 0x1f3710c2588>"
      ]
     },
     "metadata": {},
     "output_type": "display_data"
    }
   ],
   "source": [
    "summary['CPA'].plot.bar()"
   ]
  },
  {
   "cell_type": "markdown",
   "metadata": {
    "collapsed": true
   },
   "source": [
    "# Code to analyse categories"
   ]
  },
  {
   "cell_type": "code",
   "execution_count": 17,
   "metadata": {
    "collapsed": true
   },
   "outputs": [],
   "source": [
    "def parseCat (str):\n",
    "    if type(str) != float:\n",
    "        arr = str.split('\\n')\n",
    "        return arr[0]\n",
    "    else:\n",
    "        return \"No Cat\""
   ]
  },
  {
   "cell_type": "markdown",
   "metadata": {},
   "source": [
    "# Category + URL type"
   ]
  },
  {
   "cell_type": "code",
   "execution_count": 102,
   "metadata": {
    "collapsed": false
   },
   "outputs": [],
   "source": [
    "sumCat = df[df['Cat1'] == 'españa'].groupby('URL Cat').sum()"
   ]
  },
  {
   "cell_type": "code",
   "execution_count": 106,
   "metadata": {
    "collapsed": false
   },
   "outputs": [
    {
     "data": {
      "text/html": [
       "<div>\n",
       "<table border=\"1\" class=\"dataframe\">\n",
       "  <thead>\n",
       "    <tr style=\"text-align: right;\">\n",
       "      <th></th>\n",
       "      <th>Search term</th>\n",
       "      <th>Campaign</th>\n",
       "      <th>Added/Excluded</th>\n",
       "      <th>Dynamically generated Headline</th>\n",
       "      <th>Categories</th>\n",
       "      <th>Landing Page Title</th>\n",
       "      <th>URL</th>\n",
       "      <th>Ad group</th>\n",
       "      <th>Clicks</th>\n",
       "      <th>Impressions</th>\n",
       "      <th>CTR</th>\n",
       "      <th>Avg. CPC</th>\n",
       "      <th>Cost</th>\n",
       "      <th>Conversions</th>\n",
       "      <th>Cost / conv.</th>\n",
       "      <th>Conv. rate</th>\n",
       "      <th>All conv.</th>\n",
       "      <th>URLtype</th>\n",
       "      <th>URL Cat</th>\n",
       "      <th>Cat1</th>\n",
       "    </tr>\n",
       "  </thead>\n",
       "  <tbody>\n",
       "    <tr>\n",
       "      <th>0</th>\n",
       "      <td>excursiones en bahia brasil</td>\n",
       "      <td>Spanish - All Pages (DSA)</td>\n",
       "      <td>None</td>\n",
       "      <td>10 mejores excursiones y tours en Salvador de ...</td>\n",
       "      <td>brasil\\nbrasil/bahía\\nbrasil/bahía/salvador de...</td>\n",
       "      <td>10 mejores excursiones y tours en Salvador de ...</td>\n",
       "      <td>https://es.viator.com/es/7380/Salvador-da-Bahi...</td>\n",
       "      <td>DSA - ttd Pages</td>\n",
       "      <td>5</td>\n",
       "      <td>6</td>\n",
       "      <td>0.8333</td>\n",
       "      <td>0.03</td>\n",
       "      <td>0.16</td>\n",
       "      <td>0</td>\n",
       "      <td>0.0</td>\n",
       "      <td>0.0</td>\n",
       "      <td>0</td>\n",
       "      <td>d818-ttd</td>\n",
       "      <td>TTD</td>\n",
       "      <td>brasil</td>\n",
       "    </tr>\n",
       "    <tr>\n",
       "      <th>1</th>\n",
       "      <td>excursiones en bahia brasil</td>\n",
       "      <td>Spanish - All Pages (DSA)</td>\n",
       "      <td>None</td>\n",
       "      <td>10 mejores excursiones y tours en Salvador de ...</td>\n",
       "      <td>brasil\\nbrasil/bahía\\nbrasil/bahía/salvador de...</td>\n",
       "      <td>10 mejores excursiones y tours en Salvador de ...</td>\n",
       "      <td>https://es.viator.com/es/7380/Salvador-da-Bahi...</td>\n",
       "      <td>DSA - All Pages</td>\n",
       "      <td>4</td>\n",
       "      <td>6</td>\n",
       "      <td>0.6667</td>\n",
       "      <td>0.05</td>\n",
       "      <td>0.19</td>\n",
       "      <td>0</td>\n",
       "      <td>0.0</td>\n",
       "      <td>0.0</td>\n",
       "      <td>0</td>\n",
       "      <td>d818-ttd</td>\n",
       "      <td>TTD</td>\n",
       "      <td>brasil</td>\n",
       "    </tr>\n",
       "    <tr>\n",
       "      <th>2</th>\n",
       "      <td>castillo de bellver</td>\n",
       "      <td>Spanish - All Pages (DSA)</td>\n",
       "      <td>None</td>\n",
       "      <td>Castillo de Bellver - Viator.com</td>\n",
       "      <td>españa\\nespaña/islas baleares\\nespaña/islas ba...</td>\n",
       "      <td>Castillo de Bellver</td>\n",
       "      <td>https://es.viator.com/es/7380/Mallorca-attract...</td>\n",
       "      <td>DSA - All Pages</td>\n",
       "      <td>1</td>\n",
       "      <td>3</td>\n",
       "      <td>0.3333</td>\n",
       "      <td>0.11</td>\n",
       "      <td>0.11</td>\n",
       "      <td>0</td>\n",
       "      <td>0.0</td>\n",
       "      <td>0.0</td>\n",
       "      <td>0</td>\n",
       "      <td>d955-a13274</td>\n",
       "      <td>Attraction</td>\n",
       "      <td>españa</td>\n",
       "    </tr>\n",
       "    <tr>\n",
       "      <th>3</th>\n",
       "      <td>castillo de bellver</td>\n",
       "      <td>Spanish - All Pages (DSA)</td>\n",
       "      <td>None</td>\n",
       "      <td>Castillo de Bellver - Viator.com</td>\n",
       "      <td>españa\\nespaña/islas baleares\\nespaña/islas ba...</td>\n",
       "      <td>Castillo de Bellver</td>\n",
       "      <td>https://es.viator.com/es/7380/Mallorca-attract...</td>\n",
       "      <td>DSA - ttd Pages</td>\n",
       "      <td>1</td>\n",
       "      <td>1</td>\n",
       "      <td>1.0000</td>\n",
       "      <td>0.03</td>\n",
       "      <td>0.03</td>\n",
       "      <td>0</td>\n",
       "      <td>0.0</td>\n",
       "      <td>0.0</td>\n",
       "      <td>0</td>\n",
       "      <td>d955-a13274</td>\n",
       "      <td>Attraction</td>\n",
       "      <td>españa</td>\n",
       "    </tr>\n",
       "    <tr>\n",
       "      <th>4</th>\n",
       "      <td>aeropuerto de antigua guatemala</td>\n",
       "      <td>Spanish - All Pages (DSA)</td>\n",
       "      <td>None</td>\n",
       "      <td>Llegadas: del aeropuerto de la ciudad de Guate...</td>\n",
       "      <td>guatemala\\nguatemala/ciudad de guatemala\\nguat...</td>\n",
       "      <td>Traslado compartido para llegadas: del aeropue...</td>\n",
       "      <td>https://es.viator.com/es/7380/tours/Guatemala-...</td>\n",
       "      <td>DSA - All Pages</td>\n",
       "      <td>1</td>\n",
       "      <td>5</td>\n",
       "      <td>0.2000</td>\n",
       "      <td>0.16</td>\n",
       "      <td>0.16</td>\n",
       "      <td>0</td>\n",
       "      <td>0.0</td>\n",
       "      <td>0.0</td>\n",
       "      <td>0</td>\n",
       "      <td>d4595-3022ANTAPTHTL</td>\n",
       "      <td>Product</td>\n",
       "      <td>guatemala</td>\n",
       "    </tr>\n",
       "  </tbody>\n",
       "</table>\n",
       "</div>"
      ],
      "text/plain": [
       "                       Search term                   Campaign Added/Excluded  \\\n",
       "0      excursiones en bahia brasil  Spanish - All Pages (DSA)           None   \n",
       "1      excursiones en bahia brasil  Spanish - All Pages (DSA)           None   \n",
       "2              castillo de bellver  Spanish - All Pages (DSA)           None   \n",
       "3              castillo de bellver  Spanish - All Pages (DSA)           None   \n",
       "4  aeropuerto de antigua guatemala  Spanish - All Pages (DSA)           None   \n",
       "\n",
       "                      Dynamically generated Headline  \\\n",
       "0  10 mejores excursiones y tours en Salvador de ...   \n",
       "1  10 mejores excursiones y tours en Salvador de ...   \n",
       "2                   Castillo de Bellver - Viator.com   \n",
       "3                   Castillo de Bellver - Viator.com   \n",
       "4  Llegadas: del aeropuerto de la ciudad de Guate...   \n",
       "\n",
       "                                          Categories  \\\n",
       "0  brasil\\nbrasil/bahía\\nbrasil/bahía/salvador de...   \n",
       "1  brasil\\nbrasil/bahía\\nbrasil/bahía/salvador de...   \n",
       "2  españa\\nespaña/islas baleares\\nespaña/islas ba...   \n",
       "3  españa\\nespaña/islas baleares\\nespaña/islas ba...   \n",
       "4  guatemala\\nguatemala/ciudad de guatemala\\nguat...   \n",
       "\n",
       "                                  Landing Page Title  \\\n",
       "0  10 mejores excursiones y tours en Salvador de ...   \n",
       "1  10 mejores excursiones y tours en Salvador de ...   \n",
       "2                                Castillo de Bellver   \n",
       "3                                Castillo de Bellver   \n",
       "4  Traslado compartido para llegadas: del aeropue...   \n",
       "\n",
       "                                                 URL         Ad group  Clicks  \\\n",
       "0  https://es.viator.com/es/7380/Salvador-da-Bahi...  DSA - ttd Pages       5   \n",
       "1  https://es.viator.com/es/7380/Salvador-da-Bahi...  DSA - All Pages       4   \n",
       "2  https://es.viator.com/es/7380/Mallorca-attract...  DSA - All Pages       1   \n",
       "3  https://es.viator.com/es/7380/Mallorca-attract...  DSA - ttd Pages       1   \n",
       "4  https://es.viator.com/es/7380/tours/Guatemala-...  DSA - All Pages       1   \n",
       "\n",
       "   Impressions     CTR  Avg. CPC  Cost  Conversions  Cost / conv.  Conv. rate  \\\n",
       "0            6  0.8333      0.03  0.16            0           0.0         0.0   \n",
       "1            6  0.6667      0.05  0.19            0           0.0         0.0   \n",
       "2            3  0.3333      0.11  0.11            0           0.0         0.0   \n",
       "3            1  1.0000      0.03  0.03            0           0.0         0.0   \n",
       "4            5  0.2000      0.16  0.16            0           0.0         0.0   \n",
       "\n",
       "   All conv.              URLtype     URL Cat       Cat1  \n",
       "0          0             d818-ttd         TTD     brasil  \n",
       "1          0             d818-ttd         TTD     brasil  \n",
       "2          0          d955-a13274  Attraction     españa  \n",
       "3          0          d955-a13274  Attraction     españa  \n",
       "4          0  d4595-3022ANTAPTHTL     Product  guatemala  "
      ]
     },
     "execution_count": 106,
     "metadata": {},
     "output_type": "execute_result"
    }
   ],
   "source": [
    "df.head()"
   ]
  },
  {
   "cell_type": "code",
   "execution_count": 116,
   "metadata": {
    "collapsed": false
   },
   "outputs": [
    {
     "data": {
      "text/html": [
       "<div>\n",
       "<table border=\"1\" class=\"dataframe\">\n",
       "  <thead>\n",
       "    <tr style=\"text-align: right;\">\n",
       "      <th>URL Cat</th>\n",
       "      <th>Attraction</th>\n",
       "      <th>Group/Category</th>\n",
       "      <th>Product</th>\n",
       "      <th>Recommendation</th>\n",
       "      <th>TTD</th>\n",
       "    </tr>\n",
       "    <tr>\n",
       "      <th>Cat1</th>\n",
       "      <th></th>\n",
       "      <th></th>\n",
       "      <th></th>\n",
       "      <th></th>\n",
       "      <th></th>\n",
       "    </tr>\n",
       "  </thead>\n",
       "  <tbody>\n",
       "    <tr>\n",
       "      <th>No Cat</th>\n",
       "      <td>0</td>\n",
       "      <td>3</td>\n",
       "      <td>13</td>\n",
       "      <td>0</td>\n",
       "      <td>3</td>\n",
       "    </tr>\n",
       "    <tr>\n",
       "      <th>españa</th>\n",
       "      <td>2</td>\n",
       "      <td>1</td>\n",
       "      <td>23</td>\n",
       "      <td>0</td>\n",
       "      <td>2</td>\n",
       "    </tr>\n",
       "    <tr>\n",
       "      <th>estados unidos</th>\n",
       "      <td>2</td>\n",
       "      <td>1</td>\n",
       "      <td>19</td>\n",
       "      <td>0</td>\n",
       "      <td>3</td>\n",
       "    </tr>\n",
       "    <tr>\n",
       "      <th>francia</th>\n",
       "      <td>1</td>\n",
       "      <td>3</td>\n",
       "      <td>14</td>\n",
       "      <td>0</td>\n",
       "      <td>2</td>\n",
       "    </tr>\n",
       "    <tr>\n",
       "      <th>italia</th>\n",
       "      <td>2</td>\n",
       "      <td>3</td>\n",
       "      <td>26</td>\n",
       "      <td>0</td>\n",
       "      <td>3</td>\n",
       "    </tr>\n",
       "  </tbody>\n",
       "</table>\n",
       "</div>"
      ],
      "text/plain": [
       "URL Cat         Attraction  Group/Category  Product  Recommendation  TTD\n",
       "Cat1                                                                    \n",
       "No Cat                   0               3       13               0    3\n",
       "españa                   2               1       23               0    2\n",
       "estados unidos           2               1       19               0    3\n",
       "francia                  1               3       14               0    2\n",
       "italia                   2               3       26               0    3"
      ]
     },
     "execution_count": 116,
     "metadata": {},
     "output_type": "execute_result"
    }
   ],
   "source": [
    "df[(df['Cat1'] == 'españa') | (df['Cat1'] == 'italia') | (df['Cat1'] == 'francia') | (df['Cat1'] == 'No Cat') | (df['Cat1'] == 'estados unidos')].pivot_table(values='Conversions' , index='Cat1' ,columns='URL Cat' , aggfunc='sum').fillna('-')"
   ]
  },
  {
   "cell_type": "code",
   "execution_count": 120,
   "metadata": {
    "collapsed": false
   },
   "outputs": [],
   "source": [
    "pt = df.pivot_table(values='Conversions' , index='Cat1' ,columns='URL Cat' , aggfunc='sum').fillna('0')"
   ]
  },
  {
   "cell_type": "code",
   "execution_count": null,
   "metadata": {
    "collapsed": true
   },
   "outputs": [],
   "source": []
  }
 ],
 "metadata": {
  "kernelspec": {
   "display_name": "Python 3",
   "language": "python",
   "name": "python3"
  },
  "language_info": {
   "codemirror_mode": {
    "name": "ipython",
    "version": 3
   },
   "file_extension": ".py",
   "mimetype": "text/x-python",
   "name": "python",
   "nbconvert_exporter": "python",
   "pygments_lexer": "ipython3",
   "version": "3.6.0"
  }
 },
 "nbformat": 4,
 "nbformat_minor": 2
}
