{
 "cells": [
  {
   "cell_type": "code",
   "execution_count": 1,
   "metadata": {
    "collapsed": true
   },
   "outputs": [],
   "source": [
    "import numpy as np\n",
    "import pandas as pd"
   ]
  },
  {
   "cell_type": "code",
   "execution_count": 137,
   "metadata": {
    "collapsed": false
   },
   "outputs": [],
   "source": [
    "import matplotlib.pyplot as plt\n",
    "import seaborn as sns\n",
    "%matplotlib inline"
   ]
  },
  {
   "cell_type": "code",
   "execution_count": 124,
   "metadata": {
    "collapsed": true
   },
   "outputs": [],
   "source": [
    "sns.set_style('whitegrid')"
   ]
  },
  {
   "cell_type": "code",
   "execution_count": 19,
   "metadata": {
    "collapsed": true
   },
   "outputs": [],
   "source": [
    "df = pd.read_excel('dsa_sqr_240317.xlsx', header=1, skip_footer=1)"
   ]
  },
  {
   "cell_type": "markdown",
   "metadata": {},
   "source": [
    "# Helper functions"
   ]
  },
  {
   "cell_type": "code",
   "execution_count": 10,
   "metadata": {
    "collapsed": true
   },
   "outputs": [],
   "source": [
    "def parseUrl (url):\n",
    "    arr = url.split('/')\n",
    "    if len(arr[len(arr)-1]) == 1:\n",
    "        return arr[len(arr)-2]\n",
    "    else:\n",
    "        return arr[len(arr)-1]"
   ]
  },
  {
   "cell_type": "code",
   "execution_count": 11,
   "metadata": {
    "collapsed": true
   },
   "outputs": [],
   "source": [
    "def categorise (url):\n",
    "    if '-ttd' in url:\n",
    "        return 'TTD'\n",
    "    elif '-t' in url:\n",
    "        return 'Recommendation'\n",
    "    elif '-g' in url:\n",
    "        return 'Group/Category'\n",
    "    elif '-a' in url:\n",
    "        return 'Attraction'\n",
    "    elif '-' not in url:\n",
    "        return 'TTD'\n",
    "    else:\n",
    "        return 'Product'"
   ]
  },
  {
   "cell_type": "code",
   "execution_count": 12,
   "metadata": {
    "collapsed": true
   },
   "outputs": [],
   "source": [
    "def parseCat (str):\n",
    "    if type(str) != float:\n",
    "        arr = str.split('\\n')\n",
    "        return arr[0]\n",
    "    else:\n",
    "        return \"No Cat\""
   ]
  },
  {
   "cell_type": "code",
   "execution_count": 62,
   "metadata": {
    "collapsed": true
   },
   "outputs": [],
   "source": [
    "def groupCat (str):\n",
    "    if str in ['australia', 'canada', 'spain', 'thailand', 'united kingdom', 'united states', 'austria', 'belgium', 'south africa', 'south korea']:\n",
    "        return str\n",
    "    else:\n",
    "        return 'other'"
   ]
  },
  {
   "cell_type": "code",
   "execution_count": 51,
   "metadata": {
    "collapsed": true
   },
   "outputs": [],
   "source": [
    "def cpa (cost, conv):\n",
    "    return cost/conv"
   ]
  },
  {
   "cell_type": "markdown",
   "metadata": {},
   "source": [
    "# Creating new columns"
   ]
  },
  {
   "cell_type": "code",
   "execution_count": 20,
   "metadata": {
    "collapsed": true
   },
   "outputs": [],
   "source": [
    "#Category\n",
    "df['Cat'] = df['Categories'].apply(parseCat)"
   ]
  },
  {
   "cell_type": "code",
   "execution_count": 21,
   "metadata": {
    "collapsed": true
   },
   "outputs": [],
   "source": [
    "#URL type\n",
    "df['URLtype'] = df['URL'].apply(parseUrl)\n",
    "df['URL Cat'] = df['URLtype'].apply(categorise)"
   ]
  },
  {
   "cell_type": "code",
   "execution_count": 63,
   "metadata": {
    "collapsed": true
   },
   "outputs": [],
   "source": [
    "#regroup niche categories\n",
    "df['Country'] = df['Cat'].apply(groupCat)"
   ]
  },
  {
   "cell_type": "markdown",
   "metadata": {},
   "source": [
    "# Data analysis"
   ]
  },
  {
   "cell_type": "code",
   "execution_count": 67,
   "metadata": {
    "collapsed": false
   },
   "outputs": [],
   "source": [
    "df_conv = df[df['Country'] != 'other'].pivot_table(values='Conversions', index='Country', columns='URL Cat', aggfunc='sum')"
   ]
  },
  {
   "cell_type": "code",
   "execution_count": 78,
   "metadata": {
    "collapsed": false
   },
   "outputs": [
    {
     "data": {
      "text/html": [
       "<div>\n",
       "<table border=\"1\" class=\"dataframe\">\n",
       "  <thead>\n",
       "    <tr style=\"text-align: right;\">\n",
       "      <th>URL Cat</th>\n",
       "      <th>Attraction</th>\n",
       "      <th>Group/Category</th>\n",
       "      <th>Product</th>\n",
       "      <th>Recommendation</th>\n",
       "      <th>TTD</th>\n",
       "    </tr>\n",
       "    <tr>\n",
       "      <th>Country</th>\n",
       "      <th></th>\n",
       "      <th></th>\n",
       "      <th></th>\n",
       "      <th></th>\n",
       "      <th></th>\n",
       "    </tr>\n",
       "  </thead>\n",
       "  <tbody>\n",
       "    <tr>\n",
       "      <th>australia</th>\n",
       "      <td>26</td>\n",
       "      <td>27</td>\n",
       "      <td>67</td>\n",
       "      <td>4</td>\n",
       "      <td>13</td>\n",
       "    </tr>\n",
       "    <tr>\n",
       "      <th>austria</th>\n",
       "      <td>11</td>\n",
       "      <td>1</td>\n",
       "      <td>10</td>\n",
       "      <td>3</td>\n",
       "      <td>1</td>\n",
       "    </tr>\n",
       "    <tr>\n",
       "      <th>belgium</th>\n",
       "      <td>0</td>\n",
       "      <td>4</td>\n",
       "      <td>18</td>\n",
       "      <td>2</td>\n",
       "      <td>0</td>\n",
       "    </tr>\n",
       "    <tr>\n",
       "      <th>canada</th>\n",
       "      <td>14</td>\n",
       "      <td>5</td>\n",
       "      <td>18</td>\n",
       "      <td>2</td>\n",
       "      <td>10</td>\n",
       "    </tr>\n",
       "    <tr>\n",
       "      <th>south africa</th>\n",
       "      <td>4</td>\n",
       "      <td>1</td>\n",
       "      <td>3</td>\n",
       "      <td>0</td>\n",
       "      <td>4</td>\n",
       "    </tr>\n",
       "    <tr>\n",
       "      <th>south korea</th>\n",
       "      <td>2</td>\n",
       "      <td>3</td>\n",
       "      <td>10</td>\n",
       "      <td>0</td>\n",
       "      <td>6</td>\n",
       "    </tr>\n",
       "    <tr>\n",
       "      <th>spain</th>\n",
       "      <td>29</td>\n",
       "      <td>10</td>\n",
       "      <td>60</td>\n",
       "      <td>3</td>\n",
       "      <td>15</td>\n",
       "    </tr>\n",
       "    <tr>\n",
       "      <th>thailand</th>\n",
       "      <td>16</td>\n",
       "      <td>4</td>\n",
       "      <td>10</td>\n",
       "      <td>1</td>\n",
       "      <td>4</td>\n",
       "    </tr>\n",
       "    <tr>\n",
       "      <th>united kingdom</th>\n",
       "      <td>38</td>\n",
       "      <td>22</td>\n",
       "      <td>75</td>\n",
       "      <td>11</td>\n",
       "      <td>17</td>\n",
       "    </tr>\n",
       "    <tr>\n",
       "      <th>united states</th>\n",
       "      <td>153</td>\n",
       "      <td>119</td>\n",
       "      <td>375</td>\n",
       "      <td>15</td>\n",
       "      <td>103</td>\n",
       "    </tr>\n",
       "  </tbody>\n",
       "</table>\n",
       "</div>"
      ],
      "text/plain": [
       "URL Cat         Attraction  Group/Category  Product  Recommendation  TTD\n",
       "Country                                                                 \n",
       "australia               26              27       67               4   13\n",
       "austria                 11               1       10               3    1\n",
       "belgium                  0               4       18               2    0\n",
       "canada                  14               5       18               2   10\n",
       "south africa             4               1        3               0    4\n",
       "south korea              2               3       10               0    6\n",
       "spain                   29              10       60               3   15\n",
       "thailand                16               4       10               1    4\n",
       "united kingdom          38              22       75              11   17\n",
       "united states          153             119      375              15  103"
      ]
     },
     "execution_count": 78,
     "metadata": {},
     "output_type": "execute_result"
    }
   ],
   "source": [
    "df_conv"
   ]
  },
  {
   "cell_type": "code",
   "execution_count": 74,
   "metadata": {
    "collapsed": false
   },
   "outputs": [],
   "source": [
    "df_cost = df[df['Country'] != 'other'].pivot_table(values='Cost', index='Country', columns='URL Cat', aggfunc='sum')"
   ]
  },
  {
   "cell_type": "code",
   "execution_count": 127,
   "metadata": {
    "collapsed": true
   },
   "outputs": [],
   "source": [
    "df_clicks = df[df['Country'] != 'other'].pivot_table(values='Clicks', index='Country', columns='URL Cat', aggfunc='sum')"
   ]
  },
  {
   "cell_type": "code",
   "execution_count": 113,
   "metadata": {
    "collapsed": true
   },
   "outputs": [],
   "source": [
    "df_cpa = df_cost/df_conv"
   ]
  },
  {
   "cell_type": "code",
   "execution_count": 115,
   "metadata": {
    "collapsed": false
   },
   "outputs": [],
   "source": [
    "df_cpa.replace(to_replace='inf', value=0, inplace=True)"
   ]
  },
  {
   "cell_type": "code",
   "execution_count": 116,
   "metadata": {
    "collapsed": false
   },
   "outputs": [
    {
     "data": {
      "text/html": [
       "<div>\n",
       "<table border=\"1\" class=\"dataframe\">\n",
       "  <thead>\n",
       "    <tr style=\"text-align: right;\">\n",
       "      <th>URL Cat</th>\n",
       "      <th>Attraction</th>\n",
       "      <th>Group/Category</th>\n",
       "      <th>Product</th>\n",
       "      <th>Recommendation</th>\n",
       "      <th>TTD</th>\n",
       "    </tr>\n",
       "    <tr>\n",
       "      <th>Country</th>\n",
       "      <th></th>\n",
       "      <th></th>\n",
       "      <th></th>\n",
       "      <th></th>\n",
       "      <th></th>\n",
       "    </tr>\n",
       "  </thead>\n",
       "  <tbody>\n",
       "    <tr>\n",
       "      <th>australia</th>\n",
       "      <td>43.200385</td>\n",
       "      <td>31.859630</td>\n",
       "      <td>29.293731</td>\n",
       "      <td>41.215000</td>\n",
       "      <td>61.863077</td>\n",
       "    </tr>\n",
       "    <tr>\n",
       "      <th>austria</th>\n",
       "      <td>27.254545</td>\n",
       "      <td>80.340000</td>\n",
       "      <td>39.642000</td>\n",
       "      <td>18.640000</td>\n",
       "      <td>95.890000</td>\n",
       "    </tr>\n",
       "    <tr>\n",
       "      <th>belgium</th>\n",
       "      <td>0.000000</td>\n",
       "      <td>12.612500</td>\n",
       "      <td>12.497778</td>\n",
       "      <td>16.785000</td>\n",
       "      <td>0.000000</td>\n",
       "    </tr>\n",
       "    <tr>\n",
       "      <th>canada</th>\n",
       "      <td>60.340714</td>\n",
       "      <td>86.988000</td>\n",
       "      <td>65.303333</td>\n",
       "      <td>92.240000</td>\n",
       "      <td>77.095000</td>\n",
       "    </tr>\n",
       "    <tr>\n",
       "      <th>south africa</th>\n",
       "      <td>37.677500</td>\n",
       "      <td>59.300000</td>\n",
       "      <td>37.996667</td>\n",
       "      <td>0.000000</td>\n",
       "      <td>14.890000</td>\n",
       "    </tr>\n",
       "    <tr>\n",
       "      <th>south korea</th>\n",
       "      <td>42.715000</td>\n",
       "      <td>22.310000</td>\n",
       "      <td>16.751000</td>\n",
       "      <td>0.000000</td>\n",
       "      <td>21.738333</td>\n",
       "    </tr>\n",
       "    <tr>\n",
       "      <th>spain</th>\n",
       "      <td>36.785862</td>\n",
       "      <td>53.486000</td>\n",
       "      <td>28.679667</td>\n",
       "      <td>64.933333</td>\n",
       "      <td>48.642667</td>\n",
       "    </tr>\n",
       "    <tr>\n",
       "      <th>thailand</th>\n",
       "      <td>27.733750</td>\n",
       "      <td>65.337500</td>\n",
       "      <td>43.955000</td>\n",
       "      <td>86.350000</td>\n",
       "      <td>71.587500</td>\n",
       "    </tr>\n",
       "    <tr>\n",
       "      <th>united kingdom</th>\n",
       "      <td>37.303947</td>\n",
       "      <td>33.641364</td>\n",
       "      <td>38.808267</td>\n",
       "      <td>35.881818</td>\n",
       "      <td>50.107647</td>\n",
       "    </tr>\n",
       "    <tr>\n",
       "      <th>united states</th>\n",
       "      <td>54.900065</td>\n",
       "      <td>38.644874</td>\n",
       "      <td>27.322267</td>\n",
       "      <td>71.712667</td>\n",
       "      <td>47.510680</td>\n",
       "    </tr>\n",
       "  </tbody>\n",
       "</table>\n",
       "</div>"
      ],
      "text/plain": [
       "URL Cat         Attraction  Group/Category    Product  Recommendation  \\\n",
       "Country                                                                 \n",
       "australia        43.200385       31.859630  29.293731       41.215000   \n",
       "austria          27.254545       80.340000  39.642000       18.640000   \n",
       "belgium           0.000000       12.612500  12.497778       16.785000   \n",
       "canada           60.340714       86.988000  65.303333       92.240000   \n",
       "south africa     37.677500       59.300000  37.996667        0.000000   \n",
       "south korea      42.715000       22.310000  16.751000        0.000000   \n",
       "spain            36.785862       53.486000  28.679667       64.933333   \n",
       "thailand         27.733750       65.337500  43.955000       86.350000   \n",
       "united kingdom   37.303947       33.641364  38.808267       35.881818   \n",
       "united states    54.900065       38.644874  27.322267       71.712667   \n",
       "\n",
       "URL Cat               TTD  \n",
       "Country                    \n",
       "australia       61.863077  \n",
       "austria         95.890000  \n",
       "belgium          0.000000  \n",
       "canada          77.095000  \n",
       "south africa    14.890000  \n",
       "south korea     21.738333  \n",
       "spain           48.642667  \n",
       "thailand        71.587500  \n",
       "united kingdom  50.107647  \n",
       "united states   47.510680  "
      ]
     },
     "execution_count": 116,
     "metadata": {},
     "output_type": "execute_result"
    }
   ],
   "source": [
    "df_cpa"
   ]
  },
  {
   "cell_type": "markdown",
   "metadata": {},
   "source": [
    "## CPA by country (category) and URL_type"
   ]
  },
  {
   "cell_type": "code",
   "execution_count": 167,
   "metadata": {
    "collapsed": false
   },
   "outputs": [
    {
     "data": {
      "text/plain": [
       "<matplotlib.axes._subplots.AxesSubplot at 0x247a7145c88>"
      ]
     },
     "execution_count": 167,
     "metadata": {},
     "output_type": "execute_result"
    },
    {
     "data": {
      "image/png": "[encoded data removed]",
      "text/plain": [
       "<matplotlib.figure.Figure at 0x247a7145b00>"
      ]
     },
     "metadata": {},
     "output_type": "display_data"
    }
   ],
   "source": [
    "plt.figure(figsize=(15,10))\n",
    "plt.title('CPA', {'fontsize': 20})\n",
    "sns.heatmap(df_cpa, robust=True, cmap='coolwarm', annot=True)"
   ]
  },
  {
   "cell_type": "code",
   "execution_count": 148,
   "metadata": {
    "collapsed": false
   },
   "outputs": [],
   "source": [
    "df_cvr = df_conv/df_clicks\n",
    "df_cvr = df_cvr * 100 "
   ]
  },
  {
   "cell_type": "markdown",
   "metadata": {},
   "source": [
    "## CVR by country and URL_type"
   ]
  },
  {
   "cell_type": "code",
   "execution_count": 149,
   "metadata": {
    "collapsed": false
   },
   "outputs": [
    {
     "data": {
      "text/plain": [
       "<matplotlib.axes._subplots.AxesSubplot at 0x247a4ce08d0>"
      ]
     },
     "execution_count": 149,
     "metadata": {},
     "output_type": "execute_result"
    },
    {
     "data": {
      "image/png": "[encoded data removed]",
      "text/plain": [
       "<matplotlib.figure.Figure at 0x247a4cec198>"
      ]
     },
     "metadata": {},
     "output_type": "display_data"
    }
   ],
   "source": [
    "plt.figure(figsize=(15,10))\n",
    "sns.heatmap(df_cvr, cmap='coolwarm', annot=True, robust=True)"
   ]
  }
 ],
 "metadata": {
  "kernelspec": {
   "display_name": "Python 3",
   "language": "python",
   "name": "python3"
  },
  "language_info": {
   "codemirror_mode": {
    "name": "ipython",
    "version": 3
   },
   "file_extension": ".py",
   "mimetype": "text/x-python",
   "name": "python",
   "nbconvert_exporter": "python",
   "pygments_lexer": "ipython3",
   "version": "3.6.0"
  }
 },
 "nbformat": 4,
 "nbformat_minor": 2
}
