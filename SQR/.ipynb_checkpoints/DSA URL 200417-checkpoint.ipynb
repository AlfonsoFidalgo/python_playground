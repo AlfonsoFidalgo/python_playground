{
 "cells": [
  {
   "cell_type": "code",
   "execution_count": 1,
   "metadata": {
    "collapsed": true
   },
   "outputs": [],
   "source": [
    "import numpy as np"
   ]
  },
  {
   "cell_type": "code",
   "execution_count": 2,
   "metadata": {
    "collapsed": true
   },
   "outputs": [],
   "source": [
    "import pandas as pd"
   ]
  },
  {
   "cell_type": "code",
   "execution_count": 3,
   "metadata": {
    "collapsed": false
   },
   "outputs": [],
   "source": [
    "import matplotlib.pyplot as plt\n",
    "import seaborn as sns\n",
    "%matplotlib inline"
   ]
  },
  {
   "cell_type": "code",
   "execution_count": 4,
   "metadata": {
    "collapsed": false
   },
   "outputs": [],
   "source": [
    "df = pd.read_excel('dsa_sqr_200417_EN.xlsx', header=1, skip_footer=1) #header indicate the row where they are"
   ]
  },
  {
   "cell_type": "code",
   "execution_count": 6,
   "metadata": {
    "collapsed": false,
    "scrolled": true
   },
   "outputs": [
    {
     "data": {
      "text/html": [
       "<div>\n",
       "<table border=\"1\" class=\"dataframe\">\n",
       "  <thead>\n",
       "    <tr style=\"text-align: right;\">\n",
       "      <th></th>\n",
       "      <th>Search term</th>\n",
       "      <th>Campaign</th>\n",
       "      <th>Added/Excluded</th>\n",
       "      <th>Dynamically generated Headline</th>\n",
       "      <th>Categories</th>\n",
       "      <th>Landing Page Title</th>\n",
       "      <th>URL</th>\n",
       "      <th>Ad group</th>\n",
       "      <th>Clicks</th>\n",
       "      <th>Impressions</th>\n",
       "      <th>CTR</th>\n",
       "      <th>Avg. CPC</th>\n",
       "      <th>Cost</th>\n",
       "      <th>Conversions</th>\n",
       "      <th>Cost / conv.</th>\n",
       "      <th>Conv. rate</th>\n",
       "      <th>All conv.</th>\n",
       "    </tr>\n",
       "  </thead>\n",
       "  <tbody>\n",
       "    <tr>\n",
       "      <th>107490</th>\n",
       "      <td>how to travel from paris to versailles palace</td>\n",
       "      <td>DSA - General Campaign</td>\n",
       "      <td>None</td>\n",
       "      <td>Versailles Palace and Gardens Day Trip from Pa...</td>\n",
       "      <td>france\\nfrance/île-de-france\\nfrance/île-de-fr...</td>\n",
       "      <td>Skip the Line: Versailles Palace and Gardens D...</td>\n",
       "      <td>https://www.viator.com/tours/Paris/Skip-the-Li...</td>\n",
       "      <td>SiteWide DSA</td>\n",
       "      <td>1</td>\n",
       "      <td>1</td>\n",
       "      <td>1.0</td>\n",
       "      <td>0.42</td>\n",
       "      <td>0.42</td>\n",
       "      <td>0</td>\n",
       "      <td>0.0</td>\n",
       "      <td>0.0</td>\n",
       "      <td>0</td>\n",
       "    </tr>\n",
       "    <tr>\n",
       "      <th>107491</th>\n",
       "      <td>ice caves in blue</td>\n",
       "      <td>DSA - General Campaign</td>\n",
       "      <td>None</td>\n",
       "      <td>Ice Cave Day Tour from Reykjavik: Descend into...</td>\n",
       "      <td>iceland\\niceland/capital region\\niceland/capit...</td>\n",
       "      <td>Ice Cave Day Tour from Reykjavik: Descend into...</td>\n",
       "      <td>https://www.viator.com/tours/Reykjavik/Into-th...</td>\n",
       "      <td>SiteWide DSA</td>\n",
       "      <td>1</td>\n",
       "      <td>1</td>\n",
       "      <td>1.0</td>\n",
       "      <td>0.11</td>\n",
       "      <td>0.11</td>\n",
       "      <td>0</td>\n",
       "      <td>0.0</td>\n",
       "      <td>0.0</td>\n",
       "      <td>0</td>\n",
       "    </tr>\n",
       "    <tr>\n",
       "      <th>107492</th>\n",
       "      <td>tulum mexico snorkeling</td>\n",
       "      <td>DSA - General Campaign</td>\n",
       "      <td>None</td>\n",
       "      <td>The Top 9 Tulum Snorkeling Tours - viator.com</td>\n",
       "      <td>mexico\\nmexico/quintana roo\\nmexico/quintana r...</td>\n",
       "      <td>The Top 10 Tulum Snorkeling Tours</td>\n",
       "      <td>https://www.viator.com/Tulum-tours/Snorkeling/...</td>\n",
       "      <td>SiteWide DSA</td>\n",
       "      <td>1</td>\n",
       "      <td>1</td>\n",
       "      <td>1.0</td>\n",
       "      <td>0.16</td>\n",
       "      <td>0.16</td>\n",
       "      <td>0</td>\n",
       "      <td>0.0</td>\n",
       "      <td>0.0</td>\n",
       "      <td>0</td>\n",
       "    </tr>\n",
       "    <tr>\n",
       "      <th>107493</th>\n",
       "      <td>skip the queue the vatican</td>\n",
       "      <td>DSA - General Campaign</td>\n",
       "      <td>None</td>\n",
       "      <td>Skip the Line: Vatican Museums Tickets - Rome ...</td>\n",
       "      <td>italy\\nitaly/lazio\\nitaly/lazio/rome\\nvatican ...</td>\n",
       "      <td>Skip the Line: Vatican Museums Tickets - Rome</td>\n",
       "      <td>https://www.viator.com/tours/Rome/Skip-the-Lin...</td>\n",
       "      <td>SiteWide DSA</td>\n",
       "      <td>1</td>\n",
       "      <td>1</td>\n",
       "      <td>1.0</td>\n",
       "      <td>0.33</td>\n",
       "      <td>0.33</td>\n",
       "      <td>0</td>\n",
       "      <td>0.0</td>\n",
       "      <td>0.0</td>\n",
       "      <td>0</td>\n",
       "    </tr>\n",
       "    <tr>\n",
       "      <th>107494</th>\n",
       "      <td>excusrson san juan puerto rico</td>\n",
       "      <td>DSA - General Campaign</td>\n",
       "      <td>None</td>\n",
       "      <td>The 10 Best San Juan Tours, Excursions &amp;amp; A...</td>\n",
       "      <td>puerto rico</td>\n",
       "      <td>The 10 Best San Juan Tours, Excursions &amp; Activ...</td>\n",
       "      <td>https://www.viator.com/San-Juan/d903-ttd</td>\n",
       "      <td>SiteWide DSA</td>\n",
       "      <td>1</td>\n",
       "      <td>1</td>\n",
       "      <td>1.0</td>\n",
       "      <td>0.27</td>\n",
       "      <td>0.27</td>\n",
       "      <td>0</td>\n",
       "      <td>0.0</td>\n",
       "      <td>0.0</td>\n",
       "      <td>0</td>\n",
       "    </tr>\n",
       "  </tbody>\n",
       "</table>\n",
       "</div>"
      ],
      "text/plain": [
       "                                          Search term                Campaign  \\\n",
       "107490  how to travel from paris to versailles palace  DSA - General Campaign   \n",
       "107491                              ice caves in blue  DSA - General Campaign   \n",
       "107492                        tulum mexico snorkeling  DSA - General Campaign   \n",
       "107493                     skip the queue the vatican  DSA - General Campaign   \n",
       "107494                 excusrson san juan puerto rico  DSA - General Campaign   \n",
       "\n",
       "       Added/Excluded                     Dynamically generated Headline  \\\n",
       "107490           None  Versailles Palace and Gardens Day Trip from Pa...   \n",
       "107491           None  Ice Cave Day Tour from Reykjavik: Descend into...   \n",
       "107492           None      The Top 9 Tulum Snorkeling Tours - viator.com   \n",
       "107493           None  Skip the Line: Vatican Museums Tickets - Rome ...   \n",
       "107494           None  The 10 Best San Juan Tours, Excursions &amp; A...   \n",
       "\n",
       "                                               Categories  \\\n",
       "107490  france\\nfrance/île-de-france\\nfrance/île-de-fr...   \n",
       "107491  iceland\\niceland/capital region\\niceland/capit...   \n",
       "107492  mexico\\nmexico/quintana roo\\nmexico/quintana r...   \n",
       "107493  italy\\nitaly/lazio\\nitaly/lazio/rome\\nvatican ...   \n",
       "107494                                        puerto rico   \n",
       "\n",
       "                                       Landing Page Title  \\\n",
       "107490  Skip the Line: Versailles Palace and Gardens D...   \n",
       "107491  Ice Cave Day Tour from Reykjavik: Descend into...   \n",
       "107492                  The Top 10 Tulum Snorkeling Tours   \n",
       "107493      Skip the Line: Vatican Museums Tickets - Rome   \n",
       "107494  The 10 Best San Juan Tours, Excursions & Activ...   \n",
       "\n",
       "                                                      URL      Ad group  \\\n",
       "107490  https://www.viator.com/tours/Paris/Skip-the-Li...  SiteWide DSA   \n",
       "107491  https://www.viator.com/tours/Reykjavik/Into-th...  SiteWide DSA   \n",
       "107492  https://www.viator.com/Tulum-tours/Snorkeling/...  SiteWide DSA   \n",
       "107493  https://www.viator.com/tours/Rome/Skip-the-Lin...  SiteWide DSA   \n",
       "107494           https://www.viator.com/San-Juan/d903-ttd  SiteWide DSA   \n",
       "\n",
       "        Clicks  Impressions  CTR  Avg. CPC  Cost  Conversions  Cost / conv.  \\\n",
       "107490       1            1  1.0      0.42  0.42            0           0.0   \n",
       "107491       1            1  1.0      0.11  0.11            0           0.0   \n",
       "107492       1            1  1.0      0.16  0.16            0           0.0   \n",
       "107493       1            1  1.0      0.33  0.33            0           0.0   \n",
       "107494       1            1  1.0      0.27  0.27            0           0.0   \n",
       "\n",
       "        Conv. rate  All conv.  \n",
       "107490         0.0          0  \n",
       "107491         0.0          0  \n",
       "107492         0.0          0  \n",
       "107493         0.0          0  \n",
       "107494         0.0          0  "
      ]
     },
     "execution_count": 6,
     "metadata": {},
     "output_type": "execute_result"
    }
   ],
   "source": [
    "df.tail()"
   ]
  },
  {
   "cell_type": "markdown",
   "metadata": {},
   "source": [
    "# Code to parse URLs and categorise by type"
   ]
  },
  {
   "cell_type": "code",
   "execution_count": 7,
   "metadata": {
    "collapsed": false
   },
   "outputs": [],
   "source": [
    "def parseUrl (url):\n",
    "    arr = url.split('/')\n",
    "    if len(arr[len(arr)-1]) == 1:\n",
    "        return arr[len(arr)-2]\n",
    "    else:\n",
    "        return arr[len(arr)-1]"
   ]
  },
  {
   "cell_type": "code",
   "execution_count": 8,
   "metadata": {
    "collapsed": true
   },
   "outputs": [],
   "source": [
    "def categorise (url):\n",
    "    if '-ttd' in url:\n",
    "        return 'TTD'\n",
    "    elif '-t' in url:\n",
    "        return 'Recommendation'\n",
    "    elif '-g' in url:\n",
    "        return 'Group/Category'\n",
    "    elif '-a' in url:\n",
    "        return 'Attraction'\n",
    "    elif '-' not in url:\n",
    "        return 'TTD'\n",
    "    else:\n",
    "        return 'Product'"
   ]
  },
  {
   "cell_type": "code",
   "execution_count": 10,
   "metadata": {
    "collapsed": true
   },
   "outputs": [],
   "source": [
    "df['URLtype'] = df['URL'].apply(parseUrl)\n",
    "df['URL Cat'] = df['URLtype'].apply(categorise)"
   ]
  },
  {
   "cell_type": "code",
   "execution_count": 11,
   "metadata": {
    "collapsed": false,
    "scrolled": true
   },
   "outputs": [],
   "source": [
    "df['Cat1'] = df['Categories'].apply(parseCat)"
   ]
  },
  {
   "cell_type": "code",
   "execution_count": 12,
   "metadata": {
    "collapsed": false,
    "scrolled": true
   },
   "outputs": [],
   "source": [
    "sqr = df[['Search term','Impressions', 'Clicks' ,'Conversions', 'Cost', 'URL', 'URL Cat', 'Cat1']]"
   ]
  },
  {
   "cell_type": "code",
   "execution_count": 13,
   "metadata": {
    "collapsed": false
   },
   "outputs": [
    {
     "data": {
      "text/html": [
       "<div>\n",
       "<table border=\"1\" class=\"dataframe\">\n",
       "  <thead>\n",
       "    <tr style=\"text-align: right;\">\n",
       "      <th></th>\n",
       "      <th>Search term</th>\n",
       "      <th>Impressions</th>\n",
       "      <th>Clicks</th>\n",
       "      <th>Conversions</th>\n",
       "      <th>Cost</th>\n",
       "      <th>URL</th>\n",
       "      <th>URL Cat</th>\n",
       "      <th>Cat1</th>\n",
       "    </tr>\n",
       "  </thead>\n",
       "  <tbody>\n",
       "    <tr>\n",
       "      <th>0</th>\n",
       "      <td>kidzania dubai</td>\n",
       "      <td>13</td>\n",
       "      <td>2</td>\n",
       "      <td>0</td>\n",
       "      <td>0.57</td>\n",
       "      <td>https://www.viator.com/tours/Dubai/KidZania-Du...</td>\n",
       "      <td>Product</td>\n",
       "      <td>united arab emirates</td>\n",
       "    </tr>\n",
       "    <tr>\n",
       "      <th>1</th>\n",
       "      <td>must see things in milan</td>\n",
       "      <td>1</td>\n",
       "      <td>1</td>\n",
       "      <td>0</td>\n",
       "      <td>0.13</td>\n",
       "      <td>https://www.viator.com/milan-tours/d512-ttd</td>\n",
       "      <td>TTD</td>\n",
       "      <td>italy</td>\n",
       "    </tr>\n",
       "    <tr>\n",
       "      <th>2</th>\n",
       "      <td>things to do in monte carlo france</td>\n",
       "      <td>2</td>\n",
       "      <td>2</td>\n",
       "      <td>0</td>\n",
       "      <td>0.55</td>\n",
       "      <td>https://www.viator.com/Monaco/d948</td>\n",
       "      <td>TTD</td>\n",
       "      <td>monaco</td>\n",
       "    </tr>\n",
       "    <tr>\n",
       "      <th>3</th>\n",
       "      <td>madagascar excursions</td>\n",
       "      <td>1</td>\n",
       "      <td>1</td>\n",
       "      <td>0</td>\n",
       "      <td>0.41</td>\n",
       "      <td>https://www.viator.com/Madagascar-tours/Day-Tr...</td>\n",
       "      <td>Group/Category</td>\n",
       "      <td>madagascar</td>\n",
       "    </tr>\n",
       "    <tr>\n",
       "      <th>4</th>\n",
       "      <td>petra wadi ram amman</td>\n",
       "      <td>1</td>\n",
       "      <td>1</td>\n",
       "      <td>0</td>\n",
       "      <td>0.16</td>\n",
       "      <td>https://www.viator.com/tours/Amman/3-Night-Jor...</td>\n",
       "      <td>Product</td>\n",
       "      <td>jordan</td>\n",
       "    </tr>\n",
       "  </tbody>\n",
       "</table>\n",
       "</div>"
      ],
      "text/plain": [
       "                          Search term  Impressions  Clicks  Conversions  Cost  \\\n",
       "0                      kidzania dubai           13       2            0  0.57   \n",
       "1            must see things in milan            1       1            0  0.13   \n",
       "2  things to do in monte carlo france            2       2            0  0.55   \n",
       "3               madagascar excursions            1       1            0  0.41   \n",
       "4                petra wadi ram amman            1       1            0  0.16   \n",
       "\n",
       "                                                 URL         URL Cat  \\\n",
       "0  https://www.viator.com/tours/Dubai/KidZania-Du...         Product   \n",
       "1        https://www.viator.com/milan-tours/d512-ttd             TTD   \n",
       "2                 https://www.viator.com/Monaco/d948             TTD   \n",
       "3  https://www.viator.com/Madagascar-tours/Day-Tr...  Group/Category   \n",
       "4  https://www.viator.com/tours/Amman/3-Night-Jor...         Product   \n",
       "\n",
       "                   Cat1  \n",
       "0  united arab emirates  \n",
       "1                 italy  \n",
       "2                monaco  \n",
       "3            madagascar  \n",
       "4                jordan  "
      ]
     },
     "execution_count": 13,
     "metadata": {},
     "output_type": "execute_result"
    }
   ],
   "source": [
    "sqr.head()"
   ]
  },
  {
   "cell_type": "code",
   "execution_count": 14,
   "metadata": {
    "collapsed": false
   },
   "outputs": [],
   "source": [
    "summary = sqr.groupby('URL Cat').sum()"
   ]
  },
  {
   "cell_type": "code",
   "execution_count": 15,
   "metadata": {
    "collapsed": true
   },
   "outputs": [],
   "source": [
    "summary['CPA'] = summary['Cost']/summary['Conversions']\n",
    "summary['CVR'] = summary['Conversions']/summary['Clicks']"
   ]
  },
  {
   "cell_type": "code",
   "execution_count": 16,
   "metadata": {
    "collapsed": false
   },
   "outputs": [
    {
     "data": {
      "text/plain": [
       "<matplotlib.axes._subplots.AxesSubplot at 0x24876a0c588>"
      ]
     },
     "execution_count": 16,
     "metadata": {},
     "output_type": "execute_result"
    },
    {
     "data": {
      "image/png": "[encoded data removed]",
      "text/plain": [
       "<matplotlib.figure.Figure at 0x24876a620b8>"
      ]
     },
     "metadata": {},
     "output_type": "display_data"
    }
   ],
   "source": [
    "summary['Conversions'].plot.bar()"
   ]
  },
  {
   "cell_type": "code",
   "execution_count": 17,
   "metadata": {
    "collapsed": false
   },
   "outputs": [
    {
     "data": {
      "text/plain": [
       "<matplotlib.text.Text at 0x248021647b8>"
      ]
     },
     "execution_count": 17,
     "metadata": {},
     "output_type": "execute_result"
    },
    {
     "data": {
      "image/png": "[encoded data removed]",
      "text/plain": [
       "<matplotlib.figure.Figure at 0x248020c5160>"
      ]
     },
     "metadata": {},
     "output_type": "display_data"
    }
   ],
   "source": [
    "plt.figure(figsize=(15,10))\n",
    "sns.barplot(x='URL Cat', y='Conversions', data=sqr, estimator=sum, palette='Blues_d').set_title('Conversions by URL type')"
   ]
  },
  {
   "cell_type": "code",
   "execution_count": 18,
   "metadata": {
    "collapsed": false
   },
   "outputs": [
    {
     "data": {
      "text/plain": [
       "<matplotlib.text.Text at 0x24802205940>"
      ]
     },
     "execution_count": 18,
     "metadata": {},
     "output_type": "execute_result"
    },
    {
     "data": {
      "image/png": "[encoded data removed]",
      "text/plain": [
       "<matplotlib.figure.Figure at 0x24802158860>"
      ]
     },
     "metadata": {},
     "output_type": "display_data"
    }
   ],
   "source": [
    "plt.figure(figsize=(15,10))\n",
    "sns.barplot(x=summary.index, y='CPA', data=summary, palette='Blues_d').set_title('CPA by URL type')"
   ]
  },
  {
   "cell_type": "code",
   "execution_count": 19,
   "metadata": {
    "collapsed": false
   },
   "outputs": [
    {
     "data": {
      "text/html": [
       "<div>\n",
       "<table border=\"1\" class=\"dataframe\">\n",
       "  <thead>\n",
       "    <tr style=\"text-align: right;\">\n",
       "      <th></th>\n",
       "      <th>Impressions</th>\n",
       "      <th>Clicks</th>\n",
       "      <th>Conversions</th>\n",
       "      <th>Cost</th>\n",
       "      <th>CPA</th>\n",
       "      <th>CVR</th>\n",
       "    </tr>\n",
       "    <tr>\n",
       "      <th>URL Cat</th>\n",
       "      <th></th>\n",
       "      <th></th>\n",
       "      <th></th>\n",
       "      <th></th>\n",
       "      <th></th>\n",
       "      <th></th>\n",
       "    </tr>\n",
       "  </thead>\n",
       "  <tbody>\n",
       "    <tr>\n",
       "      <th>Attraction</th>\n",
       "      <td>704770</td>\n",
       "      <td>36547</td>\n",
       "      <td>182</td>\n",
       "      <td>10107.16</td>\n",
       "      <td>55.533846</td>\n",
       "      <td>0.004980</td>\n",
       "    </tr>\n",
       "    <tr>\n",
       "      <th>Group/Category</th>\n",
       "      <td>69099</td>\n",
       "      <td>21881</td>\n",
       "      <td>152</td>\n",
       "      <td>6318.34</td>\n",
       "      <td>41.568026</td>\n",
       "      <td>0.006947</td>\n",
       "    </tr>\n",
       "    <tr>\n",
       "      <th>Product</th>\n",
       "      <td>293973</td>\n",
       "      <td>41629</td>\n",
       "      <td>404</td>\n",
       "      <td>12525.19</td>\n",
       "      <td>31.002946</td>\n",
       "      <td>0.009705</td>\n",
       "    </tr>\n",
       "    <tr>\n",
       "      <th>Recommendation</th>\n",
       "      <td>22860</td>\n",
       "      <td>5956</td>\n",
       "      <td>23</td>\n",
       "      <td>1597.14</td>\n",
       "      <td>69.440870</td>\n",
       "      <td>0.003862</td>\n",
       "    </tr>\n",
       "    <tr>\n",
       "      <th>TTD</th>\n",
       "      <td>138041</td>\n",
       "      <td>43351</td>\n",
       "      <td>207</td>\n",
       "      <td>9663.87</td>\n",
       "      <td>46.685362</td>\n",
       "      <td>0.004775</td>\n",
       "    </tr>\n",
       "  </tbody>\n",
       "</table>\n",
       "</div>"
      ],
      "text/plain": [
       "                Impressions  Clicks  Conversions      Cost        CPA  \\\n",
       "URL Cat                                                                 \n",
       "Attraction           704770   36547          182  10107.16  55.533846   \n",
       "Group/Category        69099   21881          152   6318.34  41.568026   \n",
       "Product              293973   41629          404  12525.19  31.002946   \n",
       "Recommendation        22860    5956           23   1597.14  69.440870   \n",
       "TTD                  138041   43351          207   9663.87  46.685362   \n",
       "\n",
       "                     CVR  \n",
       "URL Cat                   \n",
       "Attraction      0.004980  \n",
       "Group/Category  0.006947  \n",
       "Product         0.009705  \n",
       "Recommendation  0.003862  \n",
       "TTD             0.004775  "
      ]
     },
     "execution_count": 19,
     "metadata": {},
     "output_type": "execute_result"
    }
   ],
   "source": [
    "summary"
   ]
  },
  {
   "cell_type": "code",
   "execution_count": 20,
   "metadata": {
    "collapsed": false
   },
   "outputs": [
    {
     "data": {
      "text/plain": [
       "<matplotlib.axes._subplots.AxesSubplot at 0x24802195da0>"
      ]
     },
     "execution_count": 20,
     "metadata": {},
     "output_type": "execute_result"
    },
    {
     "data": {
      "image/png": "[encoded data removed]",
      "text/plain": [
       "<matplotlib.figure.Figure at 0x248021e0d30>"
      ]
     },
     "metadata": {},
     "output_type": "display_data"
    }
   ],
   "source": [
    "summary['Cost'].plot.bar()"
   ]
  },
  {
   "cell_type": "code",
   "execution_count": 21,
   "metadata": {
    "collapsed": false
   },
   "outputs": [
    {
     "data": {
      "text/plain": [
       "<matplotlib.axes._subplots.AxesSubplot at 0x24803708da0>"
      ]
     },
     "execution_count": 21,
     "metadata": {},
     "output_type": "execute_result"
    },
    {
     "data": {
      "image/png": "[encoded data removed]",
      "text/plain": [
       "<matplotlib.figure.Figure at 0x248037147f0>"
      ]
     },
     "metadata": {},
     "output_type": "display_data"
    }
   ],
   "source": [
    "summary['CPA'].plot.bar()"
   ]
  },
  {
   "cell_type": "markdown",
   "metadata": {
    "collapsed": true
   },
   "source": [
    "# Code to analyse categories"
   ]
  },
  {
   "cell_type": "code",
   "execution_count": 9,
   "metadata": {
    "collapsed": true
   },
   "outputs": [],
   "source": [
    "def parseCat (str):\n",
    "    if type(str) != float:\n",
    "        arr = str.split('\\n')\n",
    "        return arr[0]\n",
    "    else:\n",
    "        return \"No Cat\""
   ]
  },
  {
   "cell_type": "markdown",
   "metadata": {},
   "source": [
    "# Category + URL type"
   ]
  },
  {
   "cell_type": "code",
   "execution_count": 26,
   "metadata": {
    "collapsed": false
   },
   "outputs": [],
   "source": [
    "sumCat = df.groupby('URL Cat').sum()"
   ]
  },
  {
   "cell_type": "code",
   "execution_count": 23,
   "metadata": {
    "collapsed": false,
    "scrolled": true
   },
   "outputs": [
    {
     "data": {
      "text/html": [
       "<div>\n",
       "<table border=\"1\" class=\"dataframe\">\n",
       "  <thead>\n",
       "    <tr style=\"text-align: right;\">\n",
       "      <th></th>\n",
       "      <th>Search term</th>\n",
       "      <th>Campaign</th>\n",
       "      <th>Added/Excluded</th>\n",
       "      <th>Dynamically generated Headline</th>\n",
       "      <th>Categories</th>\n",
       "      <th>Landing Page Title</th>\n",
       "      <th>URL</th>\n",
       "      <th>Ad group</th>\n",
       "      <th>Clicks</th>\n",
       "      <th>Impressions</th>\n",
       "      <th>CTR</th>\n",
       "      <th>Avg. CPC</th>\n",
       "      <th>Cost</th>\n",
       "      <th>Conversions</th>\n",
       "      <th>Cost / conv.</th>\n",
       "      <th>Conv. rate</th>\n",
       "      <th>All conv.</th>\n",
       "      <th>URLtype</th>\n",
       "      <th>URL Cat</th>\n",
       "      <th>Cat1</th>\n",
       "    </tr>\n",
       "  </thead>\n",
       "  <tbody>\n",
       "    <tr>\n",
       "      <th>0</th>\n",
       "      <td>kidzania dubai</td>\n",
       "      <td>DSA - General Campaign</td>\n",
       "      <td>None</td>\n",
       "      <td>KidZania Dubai - viator.com</td>\n",
       "      <td>united arab emirates\\nunited arab emirates/dub...</td>\n",
       "      <td>KidZania Dubai</td>\n",
       "      <td>https://www.viator.com/tours/Dubai/KidZania-Du...</td>\n",
       "      <td>SiteWide DSA</td>\n",
       "      <td>2</td>\n",
       "      <td>13</td>\n",
       "      <td>0.1538</td>\n",
       "      <td>0.28</td>\n",
       "      <td>0.57</td>\n",
       "      <td>0</td>\n",
       "      <td>0.0</td>\n",
       "      <td>0.0</td>\n",
       "      <td>0</td>\n",
       "      <td>d828-22565P3</td>\n",
       "      <td>Product</td>\n",
       "      <td>united arab emirates</td>\n",
       "    </tr>\n",
       "    <tr>\n",
       "      <th>1</th>\n",
       "      <td>must see things in milan</td>\n",
       "      <td>DSA - General Campaign</td>\n",
       "      <td>None</td>\n",
       "      <td>The 10 Best Milan Tours, Excursions &amp;amp; Acti...</td>\n",
       "      <td>italy\\nitaly/lombardy\\nitaly/lombardy/milan</td>\n",
       "      <td>The 10 Best Milan Tours, Excursions &amp; Activiti...</td>\n",
       "      <td>https://www.viator.com/milan-tours/d512-ttd</td>\n",
       "      <td>SiteWide DSA</td>\n",
       "      <td>1</td>\n",
       "      <td>1</td>\n",
       "      <td>1.0000</td>\n",
       "      <td>0.13</td>\n",
       "      <td>0.13</td>\n",
       "      <td>0</td>\n",
       "      <td>0.0</td>\n",
       "      <td>0.0</td>\n",
       "      <td>0</td>\n",
       "      <td>d512-ttd</td>\n",
       "      <td>TTD</td>\n",
       "      <td>italy</td>\n",
       "    </tr>\n",
       "    <tr>\n",
       "      <th>2</th>\n",
       "      <td>things to do in monte carlo france</td>\n",
       "      <td>DSA - General Campaign</td>\n",
       "      <td>None</td>\n",
       "      <td>Things to Do &amp;amp; Attractions in Monaco - via...</td>\n",
       "      <td>monaco</td>\n",
       "      <td>The Top 10 Things To Do in Monaco</td>\n",
       "      <td>https://www.viator.com/Monaco/d948</td>\n",
       "      <td>SiteWide DSA</td>\n",
       "      <td>2</td>\n",
       "      <td>2</td>\n",
       "      <td>1.0000</td>\n",
       "      <td>0.28</td>\n",
       "      <td>0.55</td>\n",
       "      <td>0</td>\n",
       "      <td>0.0</td>\n",
       "      <td>0.0</td>\n",
       "      <td>0</td>\n",
       "      <td>d948</td>\n",
       "      <td>TTD</td>\n",
       "      <td>monaco</td>\n",
       "    </tr>\n",
       "    <tr>\n",
       "      <th>3</th>\n",
       "      <td>madagascar excursions</td>\n",
       "      <td>DSA - General Campaign</td>\n",
       "      <td>None</td>\n",
       "      <td>The Top Madagascar Day Trips &amp;amp; Excursions ...</td>\n",
       "      <td>madagascar</td>\n",
       "      <td>The Top Madagascar Day Trips &amp; Excursions Tours</td>\n",
       "      <td>https://www.viator.com/Madagascar-tours/Day-Tr...</td>\n",
       "      <td>SiteWide DSA</td>\n",
       "      <td>1</td>\n",
       "      <td>1</td>\n",
       "      <td>1.0000</td>\n",
       "      <td>0.41</td>\n",
       "      <td>0.41</td>\n",
       "      <td>0</td>\n",
       "      <td>0.0</td>\n",
       "      <td>0.0</td>\n",
       "      <td>0</td>\n",
       "      <td>d4733-g5</td>\n",
       "      <td>Group/Category</td>\n",
       "      <td>madagascar</td>\n",
       "    </tr>\n",
       "    <tr>\n",
       "      <th>4</th>\n",
       "      <td>petra wadi ram amman</td>\n",
       "      <td>DSA - General Campaign</td>\n",
       "      <td>None</td>\n",
       "      <td>Jordan Private Tour: Petra, Wadi Rum and the D...</td>\n",
       "      <td>jordan\\njordan/amman governorate\\njordan/amman...</td>\n",
       "      <td>3-Night Jordan Private Tour: Petra, Wadi Rum a...</td>\n",
       "      <td>https://www.viator.com/tours/Amman/3-Night-Jor...</td>\n",
       "      <td>SiteWide DSA</td>\n",
       "      <td>1</td>\n",
       "      <td>1</td>\n",
       "      <td>1.0000</td>\n",
       "      <td>0.16</td>\n",
       "      <td>0.16</td>\n",
       "      <td>0</td>\n",
       "      <td>0.0</td>\n",
       "      <td>0.0</td>\n",
       "      <td>0</td>\n",
       "      <td>d5503-2268PROG3</td>\n",
       "      <td>Product</td>\n",
       "      <td>jordan</td>\n",
       "    </tr>\n",
       "  </tbody>\n",
       "</table>\n",
       "</div>"
      ],
      "text/plain": [
       "                          Search term                Campaign Added/Excluded  \\\n",
       "0                      kidzania dubai  DSA - General Campaign           None   \n",
       "1            must see things in milan  DSA - General Campaign           None   \n",
       "2  things to do in monte carlo france  DSA - General Campaign           None   \n",
       "3               madagascar excursions  DSA - General Campaign           None   \n",
       "4                petra wadi ram amman  DSA - General Campaign           None   \n",
       "\n",
       "                      Dynamically generated Headline  \\\n",
       "0                        KidZania Dubai - viator.com   \n",
       "1  The 10 Best Milan Tours, Excursions &amp; Acti...   \n",
       "2  Things to Do &amp; Attractions in Monaco - via...   \n",
       "3  The Top Madagascar Day Trips &amp; Excursions ...   \n",
       "4  Jordan Private Tour: Petra, Wadi Rum and the D...   \n",
       "\n",
       "                                          Categories  \\\n",
       "0  united arab emirates\\nunited arab emirates/dub...   \n",
       "1        italy\\nitaly/lombardy\\nitaly/lombardy/milan   \n",
       "2                                             monaco   \n",
       "3                                         madagascar   \n",
       "4  jordan\\njordan/amman governorate\\njordan/amman...   \n",
       "\n",
       "                                  Landing Page Title  \\\n",
       "0                                     KidZania Dubai   \n",
       "1  The 10 Best Milan Tours, Excursions & Activiti...   \n",
       "2                  The Top 10 Things To Do in Monaco   \n",
       "3    The Top Madagascar Day Trips & Excursions Tours   \n",
       "4  3-Night Jordan Private Tour: Petra, Wadi Rum a...   \n",
       "\n",
       "                                                 URL      Ad group  Clicks  \\\n",
       "0  https://www.viator.com/tours/Dubai/KidZania-Du...  SiteWide DSA       2   \n",
       "1        https://www.viator.com/milan-tours/d512-ttd  SiteWide DSA       1   \n",
       "2                 https://www.viator.com/Monaco/d948  SiteWide DSA       2   \n",
       "3  https://www.viator.com/Madagascar-tours/Day-Tr...  SiteWide DSA       1   \n",
       "4  https://www.viator.com/tours/Amman/3-Night-Jor...  SiteWide DSA       1   \n",
       "\n",
       "   Impressions     CTR  Avg. CPC  Cost  Conversions  Cost / conv.  Conv. rate  \\\n",
       "0           13  0.1538      0.28  0.57            0           0.0         0.0   \n",
       "1            1  1.0000      0.13  0.13            0           0.0         0.0   \n",
       "2            2  1.0000      0.28  0.55            0           0.0         0.0   \n",
       "3            1  1.0000      0.41  0.41            0           0.0         0.0   \n",
       "4            1  1.0000      0.16  0.16            0           0.0         0.0   \n",
       "\n",
       "   All conv.          URLtype         URL Cat                  Cat1  \n",
       "0          0     d828-22565P3         Product  united arab emirates  \n",
       "1          0         d512-ttd             TTD                 italy  \n",
       "2          0             d948             TTD                monaco  \n",
       "3          0         d4733-g5  Group/Category            madagascar  \n",
       "4          0  d5503-2268PROG3         Product                jordan  "
      ]
     },
     "execution_count": 23,
     "metadata": {},
     "output_type": "execute_result"
    }
   ],
   "source": [
    "df.head()"
   ]
  },
  {
   "cell_type": "code",
   "execution_count": 24,
   "metadata": {
    "collapsed": false
   },
   "outputs": [
    {
     "data": {
      "text/html": [
       "<div>\n",
       "<table border=\"1\" class=\"dataframe\">\n",
       "  <thead>\n",
       "    <tr style=\"text-align: right;\">\n",
       "      <th>URL Cat</th>\n",
       "      <th>Attraction</th>\n",
       "      <th>Group/Category</th>\n",
       "      <th>Product</th>\n",
       "      <th>Recommendation</th>\n",
       "      <th>TTD</th>\n",
       "    </tr>\n",
       "    <tr>\n",
       "      <th>Cat1</th>\n",
       "      <th></th>\n",
       "      <th></th>\n",
       "      <th></th>\n",
       "      <th></th>\n",
       "      <th></th>\n",
       "    </tr>\n",
       "  </thead>\n",
       "  <tbody>\n",
       "    <tr>\n",
       "      <th>No Cat</th>\n",
       "      <td>6</td>\n",
       "      <td>6</td>\n",
       "      <td>19</td>\n",
       "      <td>0</td>\n",
       "      <td>20</td>\n",
       "    </tr>\n",
       "  </tbody>\n",
       "</table>\n",
       "</div>"
      ],
      "text/plain": [
       "URL Cat  Attraction  Group/Category  Product  Recommendation  TTD\n",
       "Cat1                                                             \n",
       "No Cat            6               6       19               0   20"
      ]
     },
     "execution_count": 24,
     "metadata": {},
     "output_type": "execute_result"
    }
   ],
   "source": [
    "df[(df['Cat1'] == 'españa') | (df['Cat1'] == 'italia') | (df['Cat1'] == 'francia') | (df['Cat1'] == 'No Cat') | (df['Cat1'] == 'estados unidos')].pivot_table(values='Conversions' , index='Cat1' ,columns='URL Cat' , aggfunc='sum').fillna('-')"
   ]
  },
  {
   "cell_type": "code",
   "execution_count": 120,
   "metadata": {
    "collapsed": false
   },
   "outputs": [],
   "source": [
    "pt = df.pivot_table(values='Conversions' , index='Cat1' ,columns='URL Cat' , aggfunc='sum').fillna('0')"
   ]
  },
  {
   "cell_type": "code",
   "execution_count": null,
   "metadata": {
    "collapsed": true
   },
   "outputs": [],
   "source": []
  }
 ],
 "metadata": {
  "kernelspec": {
   "display_name": "Python 3",
   "language": "python",
   "name": "python3"
  },
  "language_info": {
   "codemirror_mode": {
    "name": "ipython",
    "version": 3
   },
   "file_extension": ".py",
   "mimetype": "text/x-python",
   "name": "python",
   "nbconvert_exporter": "python",
   "pygments_lexer": "ipython3",
   "version": "3.6.0"
  }
 },
 "nbformat": 4,
 "nbformat_minor": 2
}
